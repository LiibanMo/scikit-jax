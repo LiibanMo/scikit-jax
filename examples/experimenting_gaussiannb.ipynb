{
 "cells": [
  {
   "cell_type": "code",
   "execution_count": 91,
   "metadata": {},
   "outputs": [],
   "source": [
    "import jax\n",
    "import jax.numpy as jnp\n",
    "import pandas as pd\n",
    "import numpy as np\n",
    "import matplotlib.pyplot as plt\n",
    "\n",
    "from jax import jit, vmap"
   ]
  },
  {
   "cell_type": "code",
   "execution_count": 92,
   "metadata": {},
   "outputs": [],
   "source": [
    "data = pd.read_csv('/Users/liibanmohamud/Desktop/naive-bayes/data/Naive-Bayes-Classification-Data.csv')"
   ]
  },
  {
   "cell_type": "code",
   "execution_count": 93,
   "metadata": {},
   "outputs": [
    {
     "data": {
      "text/html": [
       "<div>\n",
       "<style scoped>\n",
       "    .dataframe tbody tr th:only-of-type {\n",
       "        vertical-align: middle;\n",
       "    }\n",
       "\n",
       "    .dataframe tbody tr th {\n",
       "        vertical-align: top;\n",
       "    }\n",
       "\n",
       "    .dataframe thead th {\n",
       "        text-align: right;\n",
       "    }\n",
       "</style>\n",
       "<table border=\"1\" class=\"dataframe\">\n",
       "  <thead>\n",
       "    <tr style=\"text-align: right;\">\n",
       "      <th></th>\n",
       "      <th>glucose</th>\n",
       "      <th>bloodpressure</th>\n",
       "      <th>diabetes</th>\n",
       "    </tr>\n",
       "  </thead>\n",
       "  <tbody>\n",
       "    <tr>\n",
       "      <th>0</th>\n",
       "      <td>40</td>\n",
       "      <td>85</td>\n",
       "      <td>0</td>\n",
       "    </tr>\n",
       "    <tr>\n",
       "      <th>1</th>\n",
       "      <td>40</td>\n",
       "      <td>92</td>\n",
       "      <td>0</td>\n",
       "    </tr>\n",
       "    <tr>\n",
       "      <th>2</th>\n",
       "      <td>45</td>\n",
       "      <td>63</td>\n",
       "      <td>1</td>\n",
       "    </tr>\n",
       "    <tr>\n",
       "      <th>3</th>\n",
       "      <td>45</td>\n",
       "      <td>80</td>\n",
       "      <td>0</td>\n",
       "    </tr>\n",
       "    <tr>\n",
       "      <th>4</th>\n",
       "      <td>40</td>\n",
       "      <td>73</td>\n",
       "      <td>1</td>\n",
       "    </tr>\n",
       "  </tbody>\n",
       "</table>\n",
       "</div>"
      ],
      "text/plain": [
       "   glucose  bloodpressure  diabetes\n",
       "0       40             85         0\n",
       "1       40             92         0\n",
       "2       45             63         1\n",
       "3       45             80         0\n",
       "4       40             73         1"
      ]
     },
     "execution_count": 93,
     "metadata": {},
     "output_type": "execute_result"
    }
   ],
   "source": [
    "data.head()"
   ]
  },
  {
   "cell_type": "code",
   "execution_count": 94,
   "metadata": {},
   "outputs": [],
   "source": [
    "X = data.drop(columns=['diabetes']).to_numpy()\n",
    "y = data['diabetes'].to_numpy()\n",
    "\n",
    "X, y = map(jnp.array, (\n",
    "    X, y\n",
    "))\n"
   ]
  },
  {
   "cell_type": "code",
   "execution_count": 95,
   "metadata": {},
   "outputs": [],
   "source": [
    "def split_data(data, val_size=0.1, test_size=0.2):\n",
    "    \"\"\" \n",
    "    Splits data.\n",
    "    \"\"\"\n",
    "    split_index_test = int(len(data) * (1-test_size))\n",
    "\n",
    "    data_non_test = data[:split_index_test]\n",
    "    data_test = data[split_index_test:]\n",
    "\n",
    "    split_index_val = int(len(data_non_test) * (1-val_size))\n",
    "\n",
    "    data_train = data_non_test[:split_index_val]\n",
    "    data_val = data_non_test[split_index_val:]\n",
    "\n",
    "    return data_train, data_val, data_test"
   ]
  },
  {
   "cell_type": "code",
   "execution_count": 96,
   "metadata": {},
   "outputs": [],
   "source": [
    "(X_train, X_val, X_test), (y_train, y_val, y_test) = map(\n",
    "    split_data,\n",
    "    (X, y)\n",
    ")"
   ]
  },
  {
   "cell_type": "code",
   "execution_count": 97,
   "metadata": {},
   "outputs": [
    {
     "data": {
      "text/plain": [
       "[3.6370015144348145, 4.5758891105651855]"
      ]
     },
     "execution_count": 97,
     "metadata": {},
     "output_type": "execute_result"
    }
   ],
   "source": [
    "unique_classes = jnp.unique(y).tolist()\n",
    "indices_for_each_class = [jnp.where(y_train==class_) for class_ in unique_classes]\n",
    "\n",
    "dictionary_of_stds = dict(zip(unique_classes,\n",
    "                                  [[jnp.std(X_train[collection_of_indices][:,j]).item() for j in range(X_train.shape[1])] for collection_of_indices in indices_for_each_class]))\n",
    "\n",
    "dictionary_of_stds[0]"
   ]
  },
  {
   "cell_type": "code",
   "execution_count": 98,
   "metadata": {},
   "outputs": [
    {
     "data": {
      "text/plain": [
       "{'a': 0, 'b': 1, 'c': 2}"
      ]
     },
     "execution_count": 98,
     "metadata": {},
     "output_type": "execute_result"
    }
   ],
   "source": [
    "val = [1,2,3]\n",
    "keys = ['a', 'b', 'c']\n",
    "\n",
    "dict(zip(keys, [i for i in range(len(keys))]))"
   ]
  },
  {
   "cell_type": "code",
   "execution_count": 99,
   "metadata": {},
   "outputs": [],
   "source": [
    "def compute_priors(y:jax.Array):\n",
    "    \"\"\"\n",
    "    Obtain prior probabilities.\n",
    "\n",
    "    Args:\n",
    "        y (jax.Array): Label vector.\n",
    "    \n",
    "    Returns:\n",
    "        prior_probabilities (jax.Array): Vector of prior probabilities.\n",
    "    \"\"\"\n",
    "    unique_classes = jnp.unique_values(y)\n",
    "    prior_probabilities = []\n",
    "    \n",
    "    for index, class_ in enumerate(unique_classes.tolist()):\n",
    "        prior_probabilities.append(jnp.mean(jnp.where(y==class_, 1, 0)))\n",
    "\n",
    "    return jnp.array(prior_probabilities)"
   ]
  },
  {
   "cell_type": "code",
   "execution_count": 100,
   "metadata": {},
   "outputs": [
    {
     "data": {
      "text/plain": [
       "Array([0.49949747, 0.5005025 ], dtype=float32)"
      ]
     },
     "execution_count": 100,
     "metadata": {},
     "output_type": "execute_result"
    }
   ],
   "source": [
    "compute_priors(y)"
   ]
  },
  {
   "cell_type": "code",
   "execution_count": 101,
   "metadata": {},
   "outputs": [],
   "source": [
    "def gaussian_pdf(x, mean, std):\n",
    "    return jnp.exp(-0.5 * ((x-mean)/std)**2 )/(std*jnp.sqrt(2*jnp.pi))"
   ]
  },
  {
   "cell_type": "code",
   "execution_count": 102,
   "metadata": {},
   "outputs": [],
   "source": [
    "def compute_means(X:jax.Array, y:jax.Array, random_state=12):\n",
    "    \"\"\" \n",
    "    Computes means.\n",
    "    \"\"\"\n",
    "    np.random.seed(random_state)\n",
    "\n",
    "    unique_classes = jnp.unique(y).tolist()\n",
    "    indices_for_each_class = [jnp.where(y==class_) for class_ in unique_classes]\n",
    "\n",
    "    dictionary_of_means = dict(zip(unique_classes, \n",
    "                                   [[jnp.mean(X[collection_of_indices][:,j]).item() for j in range(X.shape[1])] for collection_of_indices in indices_for_each_class]))\n",
    "    \n",
    "    return dictionary_of_means"
   ]
  },
  {
   "cell_type": "code",
   "execution_count": 103,
   "metadata": {},
   "outputs": [],
   "source": [
    "def compute_stds(X:jax.Array, y:jax.Array, random_state=12):\n",
    "    \"\"\" \n",
    "    Compute stds.\n",
    "    \"\"\"\n",
    "    np.random.seed(random_state)\n",
    "\n",
    "    unique_classes = jnp.unique(y).tolist()\n",
    "    indices_for_each_class = [jnp.where(y==class_) for class_ in unique_classes]\n",
    "\n",
    "    dictionary_of_stds = dict(zip(unique_classes, \n",
    "                                   [[jnp.std(X[collection_of_indices][:,j]).item() for j in range(X.shape[1])] for collection_of_indices in indices_for_each_class]))\n",
    "    \n",
    "    return dictionary_of_stds"
   ]
  },
  {
   "cell_type": "code",
   "execution_count": 104,
   "metadata": {},
   "outputs": [],
   "source": [
    "def compute_posterior(X:jax.Array, y:jax.Array):\n",
    "    \"\"\" \n",
    "    Computes posteriors to compute predictions.\n",
    "    \"\"\"\n",
    "    posteriors = []\n",
    "    \n",
    "    dictionary_of_means = compute_means(X, y)\n",
    "    dictionary_of_stds = compute_stds(X, y)\n",
    "    \n",
    "    prior_probabilites = compute_priors(y)\n",
    "\n",
    "    for x in X:\n",
    "        likelihoods = jnp.array([gaussian_pdf(x, jnp.array(means), jnp.array(stds)) for means, stds in zip(dictionary_of_means.values(), dictionary_of_stds.values())])\n",
    "        vector_of_posteriors = jnp.log(jnp.dot(likelihoods, prior_probabilites))\n",
    "        posteriors.append(vector_of_posteriors)\n",
    "\n",
    "    return posteriors"
   ]
  },
  {
   "cell_type": "code",
   "execution_count": 105,
   "metadata": {},
   "outputs": [],
   "source": [
    "posteriors = compute_posterior(X_test, y_test)\n",
    "y_pred = jnp.argmax(jnp.array(posteriors), axis=1)"
   ]
  },
  {
   "cell_type": "code",
   "execution_count": 106,
   "metadata": {},
   "outputs": [
    {
     "data": {
      "text/plain": [
       "Array(87.43718, dtype=float32)"
      ]
     },
     "execution_count": 106,
     "metadata": {},
     "output_type": "execute_result"
    }
   ],
   "source": [
    "jnp.mean(y_pred == y_test) * 100"
   ]
  },
  {
   "cell_type": "code",
   "execution_count": 107,
   "metadata": {},
   "outputs": [
    {
     "data": {
      "text/plain": [
       "Array(92.46231, dtype=float32)"
      ]
     },
     "execution_count": 107,
     "metadata": {},
     "output_type": "execute_result"
    }
   ],
   "source": [
    "from sklearn.naive_bayes import GaussianNB\n",
    "\n",
    "model = GaussianNB()\n",
    "model_fitted = model.fit(X_train, y_train)\n",
    "y_pred_2 = model_fitted.predict(X_test)\n",
    "\n",
    "jnp.mean(y_pred_2 == y_test) * 100"
   ]
  }
 ],
 "metadata": {
  "kernelspec": {
   "display_name": ".venv",
   "language": "python",
   "name": "python3"
  },
  "language_info": {
   "codemirror_mode": {
    "name": "ipython",
    "version": 3
   },
   "file_extension": ".py",
   "mimetype": "text/x-python",
   "name": "python",
   "nbconvert_exporter": "python",
   "pygments_lexer": "ipython3",
   "version": "3.9.7"
  }
 },
 "nbformat": 4,
 "nbformat_minor": 2
}
