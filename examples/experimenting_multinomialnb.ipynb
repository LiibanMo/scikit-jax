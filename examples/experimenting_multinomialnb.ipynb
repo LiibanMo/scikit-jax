{
 "cells": [
  {
   "cell_type": "code",
   "execution_count": 1,
   "metadata": {},
   "outputs": [],
   "source": [
    "import jax\n",
    "import jax.numpy as jnp\n",
    "import pandas as pd\n",
    "import numpy as np\n",
    "import matplotlib.pyplot as plt"
   ]
  },
  {
   "cell_type": "code",
   "execution_count": 2,
   "metadata": {},
   "outputs": [],
   "source": [
    "data = pd.read_csv('/Users/liibanmohamud/Desktop/scikit-jax/data/Student_performance_data _.csv')\n",
    "data = data.drop(columns=['StudentID', 'StudyTimeWeekly', 'GPA', 'Absences'])"
   ]
  },
  {
   "cell_type": "code",
   "execution_count": 3,
   "metadata": {},
   "outputs": [
    {
     "data": {
      "text/html": [
       "<div>\n",
       "<style scoped>\n",
       "    .dataframe tbody tr th:only-of-type {\n",
       "        vertical-align: middle;\n",
       "    }\n",
       "\n",
       "    .dataframe tbody tr th {\n",
       "        vertical-align: top;\n",
       "    }\n",
       "\n",
       "    .dataframe thead th {\n",
       "        text-align: right;\n",
       "    }\n",
       "</style>\n",
       "<table border=\"1\" class=\"dataframe\">\n",
       "  <thead>\n",
       "    <tr style=\"text-align: right;\">\n",
       "      <th></th>\n",
       "      <th>Age</th>\n",
       "      <th>Gender</th>\n",
       "      <th>Ethnicity</th>\n",
       "      <th>ParentalEducation</th>\n",
       "      <th>Tutoring</th>\n",
       "      <th>ParentalSupport</th>\n",
       "      <th>Extracurricular</th>\n",
       "      <th>Sports</th>\n",
       "      <th>Music</th>\n",
       "      <th>Volunteering</th>\n",
       "      <th>GradeClass</th>\n",
       "    </tr>\n",
       "  </thead>\n",
       "  <tbody>\n",
       "    <tr>\n",
       "      <th>0</th>\n",
       "      <td>17</td>\n",
       "      <td>1</td>\n",
       "      <td>0</td>\n",
       "      <td>2</td>\n",
       "      <td>1</td>\n",
       "      <td>2</td>\n",
       "      <td>0</td>\n",
       "      <td>0</td>\n",
       "      <td>1</td>\n",
       "      <td>0</td>\n",
       "      <td>2.0</td>\n",
       "    </tr>\n",
       "    <tr>\n",
       "      <th>1</th>\n",
       "      <td>18</td>\n",
       "      <td>0</td>\n",
       "      <td>0</td>\n",
       "      <td>1</td>\n",
       "      <td>0</td>\n",
       "      <td>1</td>\n",
       "      <td>0</td>\n",
       "      <td>0</td>\n",
       "      <td>0</td>\n",
       "      <td>0</td>\n",
       "      <td>1.0</td>\n",
       "    </tr>\n",
       "    <tr>\n",
       "      <th>2</th>\n",
       "      <td>15</td>\n",
       "      <td>0</td>\n",
       "      <td>2</td>\n",
       "      <td>3</td>\n",
       "      <td>0</td>\n",
       "      <td>2</td>\n",
       "      <td>0</td>\n",
       "      <td>0</td>\n",
       "      <td>0</td>\n",
       "      <td>0</td>\n",
       "      <td>4.0</td>\n",
       "    </tr>\n",
       "    <tr>\n",
       "      <th>3</th>\n",
       "      <td>17</td>\n",
       "      <td>1</td>\n",
       "      <td>0</td>\n",
       "      <td>3</td>\n",
       "      <td>0</td>\n",
       "      <td>3</td>\n",
       "      <td>1</td>\n",
       "      <td>0</td>\n",
       "      <td>0</td>\n",
       "      <td>0</td>\n",
       "      <td>3.0</td>\n",
       "    </tr>\n",
       "    <tr>\n",
       "      <th>4</th>\n",
       "      <td>17</td>\n",
       "      <td>1</td>\n",
       "      <td>0</td>\n",
       "      <td>2</td>\n",
       "      <td>1</td>\n",
       "      <td>3</td>\n",
       "      <td>0</td>\n",
       "      <td>0</td>\n",
       "      <td>0</td>\n",
       "      <td>0</td>\n",
       "      <td>4.0</td>\n",
       "    </tr>\n",
       "  </tbody>\n",
       "</table>\n",
       "</div>"
      ],
      "text/plain": [
       "   Age  Gender  Ethnicity  ParentalEducation  Tutoring  ParentalSupport  \\\n",
       "0   17       1          0                  2         1                2   \n",
       "1   18       0          0                  1         0                1   \n",
       "2   15       0          2                  3         0                2   \n",
       "3   17       1          0                  3         0                3   \n",
       "4   17       1          0                  2         1                3   \n",
       "\n",
       "   Extracurricular  Sports  Music  Volunteering  GradeClass  \n",
       "0                0       0      1             0         2.0  \n",
       "1                0       0      0             0         1.0  \n",
       "2                0       0      0             0         4.0  \n",
       "3                1       0      0             0         3.0  \n",
       "4                0       0      0             0         4.0  "
      ]
     },
     "execution_count": 3,
     "metadata": {},
     "output_type": "execute_result"
    }
   ],
   "source": [
    "data.head()"
   ]
  },
  {
   "cell_type": "code",
   "execution_count": 4,
   "metadata": {},
   "outputs": [
    {
     "data": {
      "image/png": "[encoded data removed]",
      "text/plain": [
       "<Figure size 1200x1200 with 12 Axes>"
      ]
     },
     "metadata": {},
     "output_type": "display_data"
    }
   ],
   "source": [
    "data.hist(figsize=(12,12))\n",
    "plt.show()"
   ]
  },
  {
   "cell_type": "code",
   "execution_count": 5,
   "metadata": {},
   "outputs": [
    {
     "data": {
      "text/plain": [
       "(2392, 10)"
      ]
     },
     "execution_count": 5,
     "metadata": {},
     "output_type": "execute_result"
    }
   ],
   "source": [
    "X = data.drop(columns=['GradeClass']).to_numpy()\n",
    "y = data['GradeClass'].to_numpy()\n",
    "\n",
    "X, y = map(jnp.array, (\n",
    "    X, y\n",
    "))\n",
    "\n",
    "X.shape"
   ]
  },
  {
   "cell_type": "code",
   "execution_count": 6,
   "metadata": {},
   "outputs": [],
   "source": [
    "def split_data(data, val_size=0.1, test_size=0.2):\n",
    "    \"\"\" \n",
    "    Splits data.\n",
    "    \"\"\"\n",
    "    split_index_test = int(len(data) * (1-test_size))\n",
    "\n",
    "    data_non_test = data[:split_index_test]\n",
    "    data_test = data[split_index_test:]\n",
    "\n",
    "    split_index_val = int(len(data_non_test) * (1-val_size))\n",
    "\n",
    "    data_train = data_non_test[:split_index_val]\n",
    "    data_val = data_non_test[split_index_val:]\n",
    "\n",
    "    return data_train, data_val, data_test"
   ]
  },
  {
   "cell_type": "code",
   "execution_count": 7,
   "metadata": {},
   "outputs": [
    {
     "data": {
      "text/plain": [
       "Array([[17.,  1.,  0., ...,  1.,  0.,  2.],\n",
       "       [18.,  0.,  0., ...,  0.,  0.,  1.],\n",
       "       [15.,  0.,  2., ...,  0.,  0.,  4.],\n",
       "       ...,\n",
       "       [16.,  1.,  0., ...,  0.,  1.,  2.],\n",
       "       [16.,  1.,  1., ...,  1.,  0.,  1.],\n",
       "       [16.,  1.,  0., ...,  0.,  1.,  1.]], dtype=float32)"
      ]
     },
     "execution_count": 7,
     "metadata": {},
     "output_type": "execute_result"
    }
   ],
   "source": [
    "(X_train, X_val, X_test), (y_train, y_val, y_test) = map(\n",
    "    split_data,\n",
    "    (X, y)\n",
    ")\n",
    "\n",
    "data_matrix = jnp.array(data.to_numpy())\n",
    "data_matrix"
   ]
  },
  {
   "cell_type": "code",
   "execution_count": 8,
   "metadata": {},
   "outputs": [],
   "source": [
    "from typing import Optional"
   ]
  },
  {
   "cell_type": "code",
   "execution_count": 9,
   "metadata": {},
   "outputs": [],
   "source": [
    "data_train = jnp.hstack((X_train, y_train[:, None]))"
   ]
  },
  {
   "cell_type": "code",
   "execution_count": 10,
   "metadata": {},
   "outputs": [
    {
     "data": {
      "text/plain": [
       "[(Array([17, 18, 15, ..., 16, 15, 16], dtype=int32),\n",
       "  Array([1, 0, 0, ..., 1, 1, 1], dtype=int32)),\n",
       " (Array([17, 18, 15, ..., 16, 15, 16], dtype=int32),\n",
       "  Array([0, 0, 2, ..., 1, 1, 0], dtype=int32)),\n",
       " (Array([17, 18, 15, ..., 16, 15, 16], dtype=int32),\n",
       "  Array([2, 1, 3, ..., 2, 0, 0], dtype=int32)),\n",
       " (Array([17, 18, 15, ..., 16, 15, 16], dtype=int32),\n",
       "  Array([1, 0, 0, ..., 0, 1, 0], dtype=int32)),\n",
       " (Array([17, 18, 15, ..., 16, 15, 16], dtype=int32),\n",
       "  Array([2, 1, 2, ..., 3, 4, 2], dtype=int32)),\n",
       " (Array([17, 18, 15, ..., 16, 15, 16], dtype=int32),\n",
       "  Array([0, 0, 0, ..., 0, 0, 0], dtype=int32)),\n",
       " (Array([17, 18, 15, ..., 16, 15, 16], dtype=int32),\n",
       "  Array([0, 0, 0, ..., 0, 1, 1], dtype=int32)),\n",
       " (Array([17, 18, 15, ..., 16, 15, 16], dtype=int32),\n",
       "  Array([1, 0, 0, ..., 0, 0, 0], dtype=int32)),\n",
       " (Array([17, 18, 15, ..., 16, 15, 16], dtype=int32),\n",
       "  Array([0, 0, 0, ..., 0, 1, 1], dtype=int32)),\n",
       " (Array([1, 0, 0, ..., 1, 1, 1], dtype=int32),\n",
       "  Array([0, 0, 2, ..., 1, 1, 0], dtype=int32)),\n",
       " (Array([1, 0, 0, ..., 1, 1, 1], dtype=int32),\n",
       "  Array([2, 1, 3, ..., 2, 0, 0], dtype=int32)),\n",
       " (Array([1, 0, 0, ..., 1, 1, 1], dtype=int32),\n",
       "  Array([1, 0, 0, ..., 0, 1, 0], dtype=int32)),\n",
       " (Array([1, 0, 0, ..., 1, 1, 1], dtype=int32),\n",
       "  Array([2, 1, 2, ..., 3, 4, 2], dtype=int32)),\n",
       " (Array([1, 0, 0, ..., 1, 1, 1], dtype=int32),\n",
       "  Array([0, 0, 0, ..., 0, 0, 0], dtype=int32)),\n",
       " (Array([1, 0, 0, ..., 1, 1, 1], dtype=int32),\n",
       "  Array([0, 0, 0, ..., 0, 1, 1], dtype=int32)),\n",
       " (Array([1, 0, 0, ..., 1, 1, 1], dtype=int32),\n",
       "  Array([1, 0, 0, ..., 0, 0, 0], dtype=int32)),\n",
       " (Array([1, 0, 0, ..., 1, 1, 1], dtype=int32),\n",
       "  Array([0, 0, 0, ..., 0, 1, 1], dtype=int32)),\n",
       " (Array([0, 0, 2, ..., 1, 1, 0], dtype=int32),\n",
       "  Array([2, 1, 3, ..., 2, 0, 0], dtype=int32)),\n",
       " (Array([0, 0, 2, ..., 1, 1, 0], dtype=int32),\n",
       "  Array([1, 0, 0, ..., 0, 1, 0], dtype=int32)),\n",
       " (Array([0, 0, 2, ..., 1, 1, 0], dtype=int32),\n",
       "  Array([2, 1, 2, ..., 3, 4, 2], dtype=int32)),\n",
       " (Array([0, 0, 2, ..., 1, 1, 0], dtype=int32),\n",
       "  Array([0, 0, 0, ..., 0, 0, 0], dtype=int32)),\n",
       " (Array([0, 0, 2, ..., 1, 1, 0], dtype=int32),\n",
       "  Array([0, 0, 0, ..., 0, 1, 1], dtype=int32)),\n",
       " (Array([0, 0, 2, ..., 1, 1, 0], dtype=int32),\n",
       "  Array([1, 0, 0, ..., 0, 0, 0], dtype=int32)),\n",
       " (Array([0, 0, 2, ..., 1, 1, 0], dtype=int32),\n",
       "  Array([0, 0, 0, ..., 0, 1, 1], dtype=int32)),\n",
       " (Array([2, 1, 3, ..., 2, 0, 0], dtype=int32),\n",
       "  Array([1, 0, 0, ..., 0, 1, 0], dtype=int32)),\n",
       " (Array([2, 1, 3, ..., 2, 0, 0], dtype=int32),\n",
       "  Array([2, 1, 2, ..., 3, 4, 2], dtype=int32)),\n",
       " (Array([2, 1, 3, ..., 2, 0, 0], dtype=int32),\n",
       "  Array([0, 0, 0, ..., 0, 0, 0], dtype=int32)),\n",
       " (Array([2, 1, 3, ..., 2, 0, 0], dtype=int32),\n",
       "  Array([0, 0, 0, ..., 0, 1, 1], dtype=int32)),\n",
       " (Array([2, 1, 3, ..., 2, 0, 0], dtype=int32),\n",
       "  Array([1, 0, 0, ..., 0, 0, 0], dtype=int32)),\n",
       " (Array([2, 1, 3, ..., 2, 0, 0], dtype=int32),\n",
       "  Array([0, 0, 0, ..., 0, 1, 1], dtype=int32)),\n",
       " (Array([1, 0, 0, ..., 0, 1, 0], dtype=int32),\n",
       "  Array([2, 1, 2, ..., 3, 4, 2], dtype=int32)),\n",
       " (Array([1, 0, 0, ..., 0, 1, 0], dtype=int32),\n",
       "  Array([0, 0, 0, ..., 0, 0, 0], dtype=int32)),\n",
       " (Array([1, 0, 0, ..., 0, 1, 0], dtype=int32),\n",
       "  Array([0, 0, 0, ..., 0, 1, 1], dtype=int32)),\n",
       " (Array([1, 0, 0, ..., 0, 1, 0], dtype=int32),\n",
       "  Array([1, 0, 0, ..., 0, 0, 0], dtype=int32)),\n",
       " (Array([1, 0, 0, ..., 0, 1, 0], dtype=int32),\n",
       "  Array([0, 0, 0, ..., 0, 1, 1], dtype=int32)),\n",
       " (Array([2, 1, 2, ..., 3, 4, 2], dtype=int32),\n",
       "  Array([0, 0, 0, ..., 0, 0, 0], dtype=int32)),\n",
       " (Array([2, 1, 2, ..., 3, 4, 2], dtype=int32),\n",
       "  Array([0, 0, 0, ..., 0, 1, 1], dtype=int32)),\n",
       " (Array([2, 1, 2, ..., 3, 4, 2], dtype=int32),\n",
       "  Array([1, 0, 0, ..., 0, 0, 0], dtype=int32)),\n",
       " (Array([2, 1, 2, ..., 3, 4, 2], dtype=int32),\n",
       "  Array([0, 0, 0, ..., 0, 1, 1], dtype=int32)),\n",
       " (Array([0, 0, 0, ..., 0, 0, 0], dtype=int32),\n",
       "  Array([0, 0, 0, ..., 0, 1, 1], dtype=int32)),\n",
       " (Array([0, 0, 0, ..., 0, 0, 0], dtype=int32),\n",
       "  Array([1, 0, 0, ..., 0, 0, 0], dtype=int32)),\n",
       " (Array([0, 0, 0, ..., 0, 0, 0], dtype=int32),\n",
       "  Array([0, 0, 0, ..., 0, 1, 1], dtype=int32)),\n",
       " (Array([0, 0, 0, ..., 0, 1, 1], dtype=int32),\n",
       "  Array([1, 0, 0, ..., 0, 0, 0], dtype=int32)),\n",
       " (Array([0, 0, 0, ..., 0, 1, 1], dtype=int32),\n",
       "  Array([0, 0, 0, ..., 0, 1, 1], dtype=int32)),\n",
       " (Array([1, 0, 0, ..., 0, 0, 0], dtype=int32),\n",
       "  Array([0, 0, 0, ..., 0, 1, 1], dtype=int32))]"
      ]
     },
     "execution_count": 10,
     "metadata": {},
     "output_type": "execute_result"
    }
   ],
   "source": [
    "from collections import Counter\n",
    "from itertools import combinations\n",
    "\n",
    "list(combinations(X_train.T, 2))"
   ]
  },
  {
   "cell_type": "code",
   "execution_count": 11,
   "metadata": {},
   "outputs": [],
   "source": [
    "def compute_marginal_likelihood(X:jax.Array):\n",
    "    n_features = X.shape[1]\n",
    "    marginal_likelihood = []\n",
    "\n",
    "    for j in range(n_features):\n",
    "        unique_categories = jnp.unique(X[:,j])\n",
    "        feature_counts = {category: jnp.mean(X[:,j] == category).item() for category in unique_categories.tolist()}\n",
    "        marginal_likelihood.append(feature_counts)\n",
    "    \n",
    "    return marginal_likelihood"
   ]
  },
  {
   "cell_type": "code",
   "execution_count": 12,
   "metadata": {},
   "outputs": [
    {
     "data": {
      "text/plain": [
       "0.26337793469429016"
      ]
     },
     "execution_count": 12,
     "metadata": {},
     "output_type": "execute_result"
    }
   ],
   "source": [
    "marginal_likelihoods = compute_marginal_likelihood(X)\n",
    "marginal_likelihoods[0][15]"
   ]
  },
  {
   "cell_type": "code",
   "execution_count": 13,
   "metadata": {},
   "outputs": [],
   "source": [
    "def obtain_priors(y:jax.Array):\n",
    "    \"\"\"\n",
    "    Obtain prior probabilities.\n",
    "    \"\"\"\n",
    "    unique_classes = jnp.unique(y)\n",
    "    prior_probabilities = jnp.zeros_like(unique_classes)\n",
    "    \n",
    "    for index, class_ in enumerate(unique_classes.tolist()):\n",
    "        prior_probabilities = prior_probabilities.at[index].set(jnp.mean(jnp.where(y==class_, 1, 0)))\n",
    "\n",
    "    return prior_probabilities"
   ]
  },
  {
   "cell_type": "code",
   "execution_count": 14,
   "metadata": {},
   "outputs": [
    {
     "data": {
      "text/plain": [
       "Array([0.03137711, 0.10575247, 0.16327716, 0.17315514, 0.5264381 ],      dtype=float32)"
      ]
     },
     "execution_count": 14,
     "metadata": {},
     "output_type": "execute_result"
    }
   ],
   "source": [
    "priors = obtain_priors(y_train)\n",
    "priors"
   ]
  },
  {
   "cell_type": "code",
   "execution_count": 15,
   "metadata": {},
   "outputs": [
    {
     "data": {
      "text/plain": [
       "{0.0: [{15: 0.2222222238779068,\n",
       "   16: 0.31481480598449707,\n",
       "   17: 0.20370370149612427,\n",
       "   18: 0.25925925374031067},\n",
       "  {0: 0.46296295523643494, 1: 0.5370370149612427},\n",
       "  {0: 0.3888888955116272,\n",
       "   1: 0.2777777910232544,\n",
       "   2: 0.25925925374031067,\n",
       "   3: 0.07407407462596893},\n",
       "  {0: 0.14814814925193787,\n",
       "   1: 0.2777777910232544,\n",
       "   2: 0.4444444477558136,\n",
       "   3: 0.1111111119389534,\n",
       "   4: 0.018518518656492233},\n",
       "  {0: 0.46296295523643494, 1: 0.5370370149612427},\n",
       "  {0: 0.03703703731298447,\n",
       "   1: 0.0555555559694767,\n",
       "   2: 0.20370370149612427,\n",
       "   3: 0.4444444477558136,\n",
       "   4: 0.25925925374031067},\n",
       "  {0: 0.40740740299224854, 1: 0.5925925970077515},\n",
       "  {0: 0.6296296119689941, 1: 0.37037035822868347},\n",
       "  {0: 0.6851851940155029, 1: 0.31481480598449707},\n",
       "  {0: 0.8518518805503845, 1: 0.14814814925193787}],\n",
       " 1.0: [{15: 0.28021979331970215,\n",
       "   16: 0.2637362778186798,\n",
       "   17: 0.2252747267484665,\n",
       "   18: 0.23076923191547394},\n",
       "  {0: 0.5, 1: 0.5},\n",
       "  {0: 0.5054945349693298,\n",
       "   1: 0.23076923191547394,\n",
       "   2: 0.18131868541240692,\n",
       "   3: 0.08241758495569229},\n",
       "  {0: 0.09890110045671463,\n",
       "   1: 0.3076923191547394,\n",
       "   2: 0.3901098966598511,\n",
       "   3: 0.15934066474437714,\n",
       "   4: 0.04395604506134987},\n",
       "  {0: 0.5824176073074341, 1: 0.4175824224948883},\n",
       "  {0: 0.02747252769768238,\n",
       "   1: 0.1428571492433548,\n",
       "   2: 0.3571428656578064,\n",
       "   3: 0.3571428656578064,\n",
       "   4: 0.11538461595773697},\n",
       "  {0: 0.5879120826721191, 1: 0.41208791732788086},\n",
       "  {0: 0.6758241653442383, 1: 0.3241758346557617},\n",
       "  {0: 0.7197802066802979, 1: 0.28021979331970215},\n",
       "  {0: 0.8351648449897766, 1: 0.16483516991138458}],\n",
       " 2.0: [{15: 0.2562277615070343,\n",
       "   16: 0.21708184480667114,\n",
       "   17: 0.2597864866256714,\n",
       "   18: 0.26690390706062317},\n",
       "  {0: 0.5124555230140686, 1: 0.4875444769859314},\n",
       "  {0: 0.5124555230140686,\n",
       "   1: 0.2028469741344452,\n",
       "   2: 0.17793594300746918,\n",
       "   3: 0.10676156729459763},\n",
       "  {0: 0.09964412450790405,\n",
       "   1: 0.3202846944332123,\n",
       "   2: 0.4021352231502533,\n",
       "   3: 0.1387900412082672,\n",
       "   4: 0.03914590924978256},\n",
       "  {0: 0.6832740306854248, 1: 0.3167259693145752},\n",
       "  {0: 0.07829181849956512,\n",
       "   1: 0.1992882490158081,\n",
       "   2: 0.33096083998680115,\n",
       "   3: 0.2918149530887604,\n",
       "   4: 0.09964412450790405},\n",
       "  {0: 0.5907473564147949, 1: 0.40925267338752747},\n",
       "  {0: 0.7153024673461914, 1: 0.2846975028514862},\n",
       "  {0: 0.8113878965377808, 1: 0.18861210346221924},\n",
       "  {0: 0.8576512336730957, 1: 0.1423487514257431}],\n",
       " 3.0: [{15: 0.25838926434516907,\n",
       "   16: 0.23489932715892792,\n",
       "   17: 0.29865771532058716,\n",
       "   18: 0.20805369317531586},\n",
       "  {0: 0.5067114233970642, 1: 0.4932885766029358},\n",
       "  {0: 0.47315436601638794,\n",
       "   1: 0.21140938997268677,\n",
       "   2: 0.21476510167121887,\n",
       "   3: 0.10067114233970642},\n",
       "  {0: 0.08724832534790039,\n",
       "   1: 0.33557048439979553,\n",
       "   2: 0.3724832236766815,\n",
       "   3: 0.1409395933151245,\n",
       "   4: 0.06375838816165924},\n",
       "  {0: 0.7046979665756226, 1: 0.29530200362205505},\n",
       "  {0: 0.06711409240961075,\n",
       "   1: 0.2214765101671219,\n",
       "   2: 0.2751677930355072,\n",
       "   3: 0.3255033493041992,\n",
       "   4: 0.11073825508356094},\n",
       "  {0: 0.6409395933151245, 1: 0.3590604066848755},\n",
       "  {0: 0.6778523325920105, 1: 0.3221476376056671},\n",
       "  {0: 0.8020133972167969, 1: 0.19798657298088074},\n",
       "  {0: 0.8859060406684875, 1: 0.11409395933151245}],\n",
       " 4.0: [{15: 0.26600441336631775,\n",
       "   16: 0.2461368590593338,\n",
       "   17: 0.22516556084156036,\n",
       "   18: 0.2626931667327881},\n",
       "  {0: 0.46357616782188416, 1: 0.5364238619804382},\n",
       "  {0: 0.5242825746536255,\n",
       "   1: 0.18101544678211212,\n",
       "   2: 0.20309050381183624,\n",
       "   3: 0.09161148220300674},\n",
       "  {0: 0.10154525190591812,\n",
       "   1: 0.2935982346534729,\n",
       "   2: 0.3951434791088104,\n",
       "   3: 0.14569535851478577,\n",
       "   4: 0.06401766091585159},\n",
       "  {0: 0.7284768223762512, 1: 0.2715231776237488},\n",
       "  {0: 0.11258278042078018,\n",
       "   1: 0.23178808391094208,\n",
       "   2: 0.29911699891090393,\n",
       "   3: 0.2682119309902191,\n",
       "   4: 0.08830022066831589},\n",
       "  {0: 0.6401765942573547, 1: 0.35982340574264526},\n",
       "  {0: 0.695364236831665, 1: 0.30463576316833496},\n",
       "  {0: 0.812362015247345, 1: 0.18763796985149384},\n",
       "  {0: 0.8245033025741577, 1: 0.1754966825246811}]}"
      ]
     },
     "execution_count": 15,
     "metadata": {},
     "output_type": "execute_result"
    }
   ],
   "source": [
    "def obtain_likelihoods(X:jax.Array, y:jax.Array, alpha:int=0):\n",
    "    \"\"\"\n",
    "    Obtains likelihoods.\n",
    "    \"\"\"\n",
    "    unique_classes = jnp.unique_values(y)\n",
    "    unique_categories_in_every_feature = [jnp.unique(x).tolist() for x in X.T]\n",
    "    collection_of_indices_of_each_class = [jnp.where(y==class_) for class_ in unique_classes.tolist()]\n",
    "    likelihoods_of_each_class_per_category = {class_: [] for class_ in unique_classes.tolist()}\n",
    "\n",
    "    for class_, collection_of_indices in zip(unique_classes.tolist(), collection_of_indices_of_each_class):\n",
    "        for j, categories in enumerate(unique_categories_in_every_feature):\n",
    "            likelihoods_per_feature = [(jnp.sum(jnp.where(X[collection_of_indices][:,j]==category, 1, 0)) + alpha) / (len(X[collection_of_indices][:,j]) + alpha * X.shape[1]) for category in categories]\n",
    "            likelihoods_of_each_class_per_category[class_].append({category: likelihoods_per_feature[ith_category].item() for ith_category, category in enumerate(categories)})\n",
    "        \n",
    "    return likelihoods_of_each_class_per_category\n",
    "\n",
    "likelihoods = obtain_likelihoods(X_train, y_train)\n",
    "likelihoods"
   ]
  },
  {
   "cell_type": "code",
   "execution_count": 16,
   "metadata": {},
   "outputs": [
    {
     "data": {
      "text/plain": [
       "[16, 1, 1, 1, 0, 1, 1, 0, 1, 0]"
      ]
     },
     "execution_count": 16,
     "metadata": {},
     "output_type": "execute_result"
    }
   ],
   "source": [
    "X_test[2].tolist()"
   ]
  },
  {
   "cell_type": "code",
   "execution_count": 17,
   "metadata": {},
   "outputs": [
    {
     "data": {
      "text/plain": [
       "(1721, 10)"
      ]
     },
     "execution_count": 17,
     "metadata": {},
     "output_type": "execute_result"
    }
   ],
   "source": [
    "X_train.shape"
   ]
  },
  {
   "cell_type": "code",
   "execution_count": 18,
   "metadata": {},
   "outputs": [
    {
     "data": {
      "text/plain": [
       "{15: 0.2222222238779068,\n",
       " 16: 0.31481480598449707,\n",
       " 17: 0.20370370149612427,\n",
       " 18: 0.25925925374031067}"
      ]
     },
     "execution_count": 18,
     "metadata": {},
     "output_type": "execute_result"
    }
   ],
   "source": [
    "likelihoods[0][0]"
   ]
  },
  {
   "cell_type": "code",
   "execution_count": 19,
   "metadata": {},
   "outputs": [
    {
     "name": "stdout",
     "output_type": "stream",
     "text": [
      "x : [16  1  0  1  0  3  0  1  0  0]\n"
     ]
    },
    {
     "data": {
      "text/plain": [
       "Array(-9.870249, dtype=float32)"
      ]
     },
     "execution_count": 19,
     "metadata": {},
     "output_type": "execute_result"
    }
   ],
   "source": [
    "x = X_test[0]\n",
    "print(f'x : {x}')\n",
    "jnp.log(priors[1]) + jnp.sum(jnp.log(jnp.array([likelihoods[1][i][x[i].item()] for i in range(len(x))])))"
   ]
  },
  {
   "cell_type": "code",
   "execution_count": 20,
   "metadata": {},
   "outputs": [
    {
     "data": {
      "text/plain": [
       "10"
      ]
     },
     "execution_count": 20,
     "metadata": {},
     "output_type": "execute_result"
    }
   ],
   "source": [
    "len(marginal_likelihoods)"
   ]
  },
  {
   "cell_type": "code",
   "execution_count": 21,
   "metadata": {},
   "outputs": [],
   "source": [
    "def predict(X_test:jax.Array, priors:jax.Array, likelihoods:dict, marginal_likelihoods:list):\n",
    "    \"\"\" \n",
    "    predict on test data\n",
    "    \"\"\"\n",
    "    vector_of_posteriors_for_data_point_i = jnp.zeros(len(likelihoods))\n",
    "    matrix_of_posteriors = []\n",
    "\n",
    "    for index, x in enumerate(X_test):\n",
    "        for i, class_ in enumerate(likelihoods.keys()):\n",
    "            posterior = jnp.log(priors[i]) + jnp.sum(jnp.log(jnp.array([likelihoods[i][j][x_ij.item()] for j, x_ij in enumerate(x)]))) \n",
    "            vector_of_posteriors_for_data_point_i = vector_of_posteriors_for_data_point_i.at[i].set(posterior)\n",
    "        matrix_of_posteriors.append(vector_of_posteriors_for_data_point_i)\n",
    "\n",
    "    y_pred = jnp.argmax(jnp.array(matrix_of_posteriors), axis=1)\n",
    "    return y_pred"
   ]
  },
  {
   "cell_type": "code",
   "execution_count": 22,
   "metadata": {},
   "outputs": [
    {
     "data": {
      "text/plain": [
       "Array([4, 4, 4, 4, 4, 4, 4, 4, 4, 4, 4, 4, 4, 4, 4, 4, 4, 4, 4, 4, 4, 4,\n",
       "       4, 4, 4, 4, 4, 4, 4, 4, 4, 4, 4, 4, 4, 4, 4, 4, 4, 4, 4, 4, 4, 4,\n",
       "       4, 4, 4, 4, 4, 4, 4, 4, 4, 4, 4, 4, 4, 4, 4, 4, 4, 0, 4, 4, 4, 4,\n",
       "       4, 4, 4, 4, 4, 4, 4, 4, 4, 4, 4, 4, 4, 4, 4, 4, 4, 4, 4, 4, 4, 4,\n",
       "       4, 4, 4, 4, 4, 4, 4, 4, 4, 4, 4, 4, 4, 4, 4, 4, 4, 4, 4, 4, 4, 4,\n",
       "       4, 4, 4, 4, 4, 4, 4, 4, 4, 4, 4, 4, 4, 4, 4, 4, 4, 4, 4, 4, 4, 4,\n",
       "       4, 4, 4, 4, 4, 4, 4, 4, 4, 4, 4, 4, 4, 4, 4, 4, 4, 4, 4, 4, 4, 4,\n",
       "       4, 4, 4, 4, 4, 4, 4, 4, 4, 4, 4, 4, 4, 4, 4, 4, 4, 4, 4, 4, 4, 4,\n",
       "       4, 4, 4, 4, 4, 4, 4, 4, 4, 4, 4, 4, 4, 4, 4, 4], dtype=int32)"
      ]
     },
     "execution_count": 22,
     "metadata": {},
     "output_type": "execute_result"
    }
   ],
   "source": [
    "y_pred = predict(X_val, priors, likelihoods, marginal_likelihoods)\n",
    "y_pred"
   ]
  },
  {
   "cell_type": "code",
   "execution_count": 23,
   "metadata": {},
   "outputs": [
    {
     "ename": "ModuleNotFoundError",
     "evalue": "No module named 'skjax'",
     "output_type": "error",
     "traceback": [
      "\u001b[0;31m---------------------------------------------------------------------------\u001b[0m",
      "\u001b[0;31mModuleNotFoundError\u001b[0m                       Traceback (most recent call last)",
      "Cell \u001b[0;32mIn[23], line 1\u001b[0m\n\u001b[0;32m----> 1\u001b[0m \u001b[38;5;28;01mfrom\u001b[39;00m \u001b[38;5;21;01mskjax\u001b[39;00m\u001b[38;5;21;01m.\u001b[39;00m\u001b[38;5;21;01mdimensionality_reduction\u001b[39;00m \u001b[38;5;28;01mimport\u001b[39;00m PCA\n",
      "\u001b[0;31mModuleNotFoundError\u001b[0m: No module named 'skjax'"
     ]
    }
   ],
   "source": [
    "from skjax.dimensionality_reduction import PCA"
   ]
  },
  {
   "cell_type": "code",
   "execution_count": null,
   "metadata": {},
   "outputs": [],
   "source": []
  }
 ],
 "metadata": {
  "kernelspec": {
   "display_name": ".venv",
   "language": "python",
   "name": "python3"
  },
  "language_info": {
   "codemirror_mode": {
    "name": "ipython",
    "version": 3
   },
   "file_extension": ".py",
   "mimetype": "text/x-python",
   "name": "python",
   "nbconvert_exporter": "python",
   "pygments_lexer": "ipython3",
   "version": "3.9.7"
  }
 },
 "nbformat": 4,
 "nbformat_minor": 2
}
