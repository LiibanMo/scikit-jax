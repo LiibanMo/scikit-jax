{
 "cells": [
  {
   "cell_type": "code",
   "execution_count": 59,
   "metadata": {},
   "outputs": [],
   "source": [
    "import jax\n",
    "import jax.numpy as jnp\n",
    "from jax.numpy.linalg import norm, svd\n",
    "\n",
    "jax.config.update('jax_enable_x64', False)"
   ]
  },
  {
   "cell_type": "code",
   "execution_count": 60,
   "metadata": {},
   "outputs": [],
   "source": [
    "def normalize_vector(v:jax.Array):\n",
    "    return v / norm(v)"
   ]
  },
  {
   "cell_type": "code",
   "execution_count": 61,
   "metadata": {},
   "outputs": [],
   "source": [
    "def householder_reflection(x:jax.Array):\n",
    "    w_0 = x[0] + jnp.sign(x[0]) * norm(x) if x[0] != 0 else norm(x)\n",
    "    w = x.at[0].set(w_0)\n",
    "    w = normalize_vector(w)\n",
    "    return jnp.identity(n=len(w)) - 2*jnp.linalg.outer(w, w) "
   ]
  },
  {
   "cell_type": "code",
   "execution_count": 62,
   "metadata": {},
   "outputs": [],
   "source": [
    "def apply_householder_reflection(H, x):\n",
    "    return jnp.dot(H, x)"
   ]
  },
  {
   "cell_type": "code",
   "execution_count": 63,
   "metadata": {},
   "outputs": [
    {
     "data": {
      "text/plain": [
       "Array([3., 5.], dtype=float32)"
      ]
     },
     "execution_count": 63,
     "metadata": {},
     "output_type": "execute_result"
    }
   ],
   "source": [
    "x = jnp.array([1.,2.])\n",
    "y = jnp.array([2.,3.])\n",
    "\n",
    "x + y"
   ]
  },
  {
   "cell_type": "code",
   "execution_count": 64,
   "metadata": {},
   "outputs": [],
   "source": [
    "H = householder_reflection(x) "
   ]
  },
  {
   "cell_type": "code",
   "execution_count": 65,
   "metadata": {},
   "outputs": [
    {
     "data": {
      "text/plain": [
       "Array([-2.2360678e+00,  1.7881393e-07], dtype=float32)"
      ]
     },
     "execution_count": 65,
     "metadata": {},
     "output_type": "execute_result"
    }
   ],
   "source": [
    "apply_householder_reflection(H, x)"
   ]
  },
  {
   "cell_type": "code",
   "execution_count": 66,
   "metadata": {},
   "outputs": [
    {
     "data": {
      "text/plain": [
       "Array([[1., 2., 3.],\n",
       "       [4., 5., 6.],\n",
       "       [7., 8., 9.]], dtype=float32)"
      ]
     },
     "execution_count": 66,
     "metadata": {},
     "output_type": "execute_result"
    }
   ],
   "source": [
    "A = jnp.array([[1,2,3], [4,5,6], [7,8,9]], dtype=jnp.float32)\n",
    "A"
   ]
  },
  {
   "cell_type": "code",
   "execution_count": 67,
   "metadata": {},
   "outputs": [
    {
     "data": {
      "text/plain": [
       "Array([[-8.1240387e+00, -9.6011372e+00, -1.1078235e+01],\n",
       "       [-1.7881393e-07, -8.5965633e-02, -1.7193133e-01],\n",
       "       [ 1.7881393e-07, -9.0043950e-01, -1.8008795e+00]], dtype=float32)"
      ]
     },
     "execution_count": 67,
     "metadata": {},
     "output_type": "execute_result"
    }
   ],
   "source": [
    "H1 = householder_reflection(A.T[0])\n",
    "A2 = jnp.dot(H1, A)\n",
    "A2"
   ]
  },
  {
   "cell_type": "code",
   "execution_count": 68,
   "metadata": {},
   "outputs": [
    {
     "data": {
      "text/plain": [
       "Array([[-8.1240387e+00, -9.6011372e+00, -1.1078235e+01],\n",
       "       [-1.7881393e-07, -8.5965633e-02, -1.7193133e-01],\n",
       "       [ 1.7881393e-07, -9.0043950e-01, -1.8008795e+00]], dtype=float32)"
      ]
     },
     "execution_count": 68,
     "metadata": {},
     "output_type": "execute_result"
    }
   ],
   "source": [
    "H1 @ A"
   ]
  },
  {
   "cell_type": "code",
   "execution_count": 69,
   "metadata": {},
   "outputs": [],
   "source": [
    "def qr_decomposition(A:jax.Array):\n",
    "    n, m = A.shape\n",
    "\n",
    "    R = A.copy()\n",
    "    Q = jnp.identity(n)\n",
    "    for i in range(m-1):\n",
    "        H_i = householder_reflection(R[i:, i:].T[0])\n",
    "        H_i = jax.scipy.linalg.block_diag(jnp.eye(i), H_i) if i != 0 else H_i\n",
    "        R = jnp.dot(H_i, R)\n",
    "        Q = jnp.dot(Q, H_i.T)\n",
    "    \n",
    "    return Q, R"
   ]
  },
  {
   "cell_type": "code",
   "execution_count": 70,
   "metadata": {},
   "outputs": [
    {
     "data": {
      "text/plain": [
       "Array([[1.2999997 , 1.9999998 ],\n",
       "       [1.9999998 , 0.99999976]], dtype=float32)"
      ]
     },
     "execution_count": 70,
     "metadata": {},
     "output_type": "execute_result"
    }
   ],
   "source": [
    "Q, R = qr_decomposition(jnp.array([[1.3,2.],[2.,1.]]))\n",
    "jnp.dot(Q, R)"
   ]
  },
  {
   "cell_type": "code",
   "execution_count": 71,
   "metadata": {},
   "outputs": [],
   "source": [
    "A = jnp.array([[1,2,3], [4,5,6], [7,8,9]], dtype=jnp.float32)\n",
    "\n",
    "def bidiagonalisation_decomposition(A:jax.Array):\n",
    "    n, m = A.shape\n",
    "    Q_2 = jnp.identity(m)\n",
    "    Q_1 = jnp.identity(n)\n",
    "    B = A.copy()\n",
    "\n",
    "    for i in range(min(n, m)):\n",
    "        if i <= n-1:\n",
    "            H_1 = householder_reflection(B[i:, i:].T[0])\n",
    "            H_1 = jax.scipy.linalg.block_diag(jnp.eye(i), H_1)\n",
    "            B = jnp.dot(H_1, B)\n",
    "            Q_1 = jnp.dot(Q_1, H_1.T)\n",
    "\n",
    "        if i < m-1:\n",
    "            H_2 = householder_reflection(B[i:, i+1:][0])\n",
    "            H_2 = jax.scipy.linalg.block_diag(jnp.eye(i+1), H_2)\n",
    "            B = jnp.dot(B, H_2.T)\n",
    "            Q_2 = jnp.dot(H_2, Q_2)\n",
    "\n",
    "    return Q_1, B, Q_2"
   ]
  },
  {
   "cell_type": "code",
   "execution_count": 72,
   "metadata": {},
   "outputs": [
    {
     "data": {
      "text/plain": [
       "Array([[1.0000021, 2.0000029, 2.9999998, 4.000003 , 5.0000033, 6.0000043],\n",
       "       [6.000002 , 5.000002 , 4.0000024, 3.0000021, 2.000002 , 1.0000017]],      dtype=float32)"
      ]
     },
     "execution_count": 72,
     "metadata": {},
     "output_type": "execute_result"
    }
   ],
   "source": [
    "Q_1, B, Q_2 = bidiagonalisation_decomposition(jnp.array([[1,2,3,4,5,6], [6,5,4,3,2,1]], dtype=jnp.float32))\n",
    "Q_1 @ B @ Q_2"
   ]
  },
  {
   "cell_type": "code",
   "execution_count": 73,
   "metadata": {},
   "outputs": [],
   "source": [
    "B = jnp.array([[1, 2, 0, 0],\n",
    "               [3, 4, 5, 0],\n",
    "               [0, 6, 7, 8],\n",
    "               [0, 0, 9, 10]])"
   ]
  },
  {
   "cell_type": "code",
   "execution_count": 74,
   "metadata": {},
   "outputs": [
    {
     "name": "stdout",
     "output_type": "stream",
     "text": [
      "Block 11:\n",
      "[[1 2]\n",
      " [3 4]]\n",
      "\n",
      "Block 12:\n",
      "[[0 0]\n",
      " [5 0]]\n",
      "\n",
      "Block 21:\n",
      "[[0 6]\n",
      " [0 0]]\n",
      "\n",
      "Block 22:\n",
      "[[ 7  8]\n",
      " [ 9 10]]\n"
     ]
    }
   ],
   "source": [
    "# Define block size (example: 2x2)\n",
    "block_size = 2\n",
    "\n",
    "# Extract blocks\n",
    "block_11 = B[:block_size, :block_size]  # Top-left block\n",
    "block_12 = B[:block_size, block_size:]  # Top-right block\n",
    "block_21 = B[block_size:, :block_size]  # Bottom-left block\n",
    "block_22 = B[block_size:, block_size:]  # Bottom-right block\n",
    "\n",
    "print(\"Block 11:\")\n",
    "print(block_11)\n",
    "print(\"\\nBlock 12:\")\n",
    "print(block_12)\n",
    "print(\"\\nBlock 21:\")\n",
    "print(block_21)\n",
    "print(\"\\nBlock 22:\")\n",
    "print(block_22)"
   ]
  },
  {
   "cell_type": "code",
   "execution_count": 75,
   "metadata": {},
   "outputs": [],
   "source": [
    "def split_matrix_into_blocks(B, block_size:int=2):\n",
    "\n",
    "    assert block_size > 0, f'The block size should be greater than 0. Instead {block_size}'\n",
    "    assert block_size <= min(B.shape), f'The block size should be less than or equal to the size of the matrix. Instead {block_size} > {min(B.shape)}'\n",
    "\n",
    "    block_11 = B[:block_size, :block_size]  # Top-left block\n",
    "    block_12 = B[:block_size, block_size:]  # Top-right block\n",
    "    block_21 = B[block_size:, :block_size]  # Bottom-left block\n",
    "    block_22 = B[block_size:, block_size:]  # Bottom-right block\n",
    "\n",
    "    return [block_11, block_12, block_21, block_22]"
   ]
  },
  {
   "cell_type": "code",
   "execution_count": 76,
   "metadata": {},
   "outputs": [
    {
     "data": {
      "text/plain": [
       "[Array([[1, 2],\n",
       "        [3, 4]], dtype=int32),\n",
       " Array([[0, 0],\n",
       "        [5, 0]], dtype=int32),\n",
       " Array([[0, 6],\n",
       "        [0, 0]], dtype=int32),\n",
       " Array([[ 7,  8],\n",
       "        [ 9, 10]], dtype=int32)]"
      ]
     },
     "execution_count": 76,
     "metadata": {},
     "output_type": "execute_result"
    }
   ],
   "source": [
    "split_matrix_into_blocks(B)"
   ]
  },
  {
   "cell_type": "code",
   "execution_count": 77,
   "metadata": {},
   "outputs": [],
   "source": [
    "def perform_svd_on_blocks(blocks: list):\n",
    "    U_list, S_list, Vh_list = [], [], []\n",
    "    singular_values = []\n",
    "\n",
    "    # Perform SVD on each block\n",
    "    for block in blocks:\n",
    "        U_block, S_block, Vh_block = svd(block, full_matrices=False)\n",
    "        U_list.append(U_block)\n",
    "        singular_values.append(S_block)\n",
    "        Vh_list.append(Vh_block)\n",
    "\n",
    "    # Convert lists to arrays\n",
    "    U = jnp.hstack(U_list)\n",
    "    Vh = jnp.vstack(Vh_list)\n",
    "\n",
    "    # Concatenate singular values and sort them if needed\n",
    "    S = jnp.concatenate(singular_values)\n",
    "    \n",
    "    # Sorting singular values in descending order\n",
    "    sorted_indices = jnp.argsort(S)[::-1]\n",
    "    S_sorted = jnp.sort(S)[::-1]\n",
    "    Vh_sorted = Vh[sorted_indices]\n",
    "\n",
    "    # Construct diagonal matrix for singular values\n",
    "    S_diag = jnp.diag(S_sorted)\n",
    "\n",
    "    return U, S_diag, Vh_sorted"
   ]
  },
  {
   "cell_type": "code",
   "execution_count": 78,
   "metadata": {},
   "outputs": [
    {
     "data": {
      "text/plain": [
       "Array([[17.146032  ,  0.        ,  0.        ,  0.        ,  0.        ,\n",
       "         0.        ,  0.        ,  0.        ],\n",
       "       [ 0.        ,  6.        ,  0.        ,  0.        ,  0.        ,\n",
       "         0.        ,  0.        ,  0.        ],\n",
       "       [ 0.        ,  0.        ,  5.4649854 ,  0.        ,  0.        ,\n",
       "         0.        ,  0.        ,  0.        ],\n",
       "       [ 0.        ,  0.        ,  0.        ,  5.        ,  0.        ,\n",
       "         0.        ,  0.        ,  0.        ],\n",
       "       [ 0.        ,  0.        ,  0.        ,  0.        ,  0.36596614,\n",
       "         0.        ,  0.        ,  0.        ],\n",
       "       [ 0.        ,  0.        ,  0.        ,  0.        ,  0.        ,\n",
       "         0.11664554,  0.        ,  0.        ],\n",
       "       [ 0.        ,  0.        ,  0.        ,  0.        ,  0.        ,\n",
       "         0.        ,  0.        ,  0.        ],\n",
       "       [ 0.        ,  0.        ,  0.        ,  0.        ,  0.        ,\n",
       "         0.        ,  0.        ,  0.        ]], dtype=float32)"
      ]
     },
     "execution_count": 78,
     "metadata": {},
     "output_type": "execute_result"
    }
   ],
   "source": [
    "B = jnp.array([[1, 2, 0, 0],\n",
    "               [3, 4, 5, 0],\n",
    "               [0, 6, 7, 8],\n",
    "               [0, 0, 9, 10]])\n",
    "\n",
    "blocks = split_matrix_into_blocks(B)\n",
    "U,S,V = perform_svd_on_blocks(blocks)\n",
    "S"
   ]
  },
  {
   "cell_type": "code",
   "execution_count": 79,
   "metadata": {},
   "outputs": [],
   "source": [
    "B_scaled = (B - jnp.mean(B))/jnp.std(B)"
   ]
  },
  {
   "cell_type": "code",
   "execution_count": 80,
   "metadata": {},
   "outputs": [
    {
     "data": {
      "text/plain": [
       "(4, 4)"
      ]
     },
     "execution_count": 80,
     "metadata": {},
     "output_type": "execute_result"
    }
   ],
   "source": [
    "U, S, Vt = svd(B)\n",
    "Vt.T.shape"
   ]
  },
  {
   "cell_type": "code",
   "execution_count": 81,
   "metadata": {},
   "outputs": [],
   "source": [
    "explained_variance = S**2/(len(B) - 1)"
   ]
  },
  {
   "cell_type": "code",
   "execution_count": 82,
   "metadata": {},
   "outputs": [],
   "source": [
    "explained_variance_ratio = explained_variance / jnp.sum(explained_variance)"
   ]
  },
  {
   "cell_type": "code",
   "execution_count": 83,
   "metadata": {},
   "outputs": [
    {
     "data": {
      "text/plain": [
       "Array([0.8529526 , 0.11453851, 0.0312005 , 0.00130828], dtype=float32)"
      ]
     },
     "execution_count": 83,
     "metadata": {},
     "output_type": "execute_result"
    }
   ],
   "source": [
    "explained_variance_ratio"
   ]
  },
  {
   "cell_type": "code",
   "execution_count": 84,
   "metadata": {},
   "outputs": [],
   "source": [
    "B_pca = jnp.dot(B, Vt.T[:, :3])"
   ]
  },
  {
   "cell_type": "code",
   "execution_count": 85,
   "metadata": {},
   "outputs": [
    {
     "data": {
      "text/plain": [
       "(Array([[-0.03292128,  0.294175  , -0.17891642,  0.9382783 ],\n",
       "        [-0.25488862,  0.7409277 ,  0.6085924 , -0.12519355],\n",
       "        [-0.65354645,  0.27927098, -0.66242605, -0.23680505],\n",
       "        [-0.7119168 , -0.5352525 ,  0.39849195,  0.21882348]],      dtype=float32),\n",
       " Array([[-0.03292139, -0.29417548, -0.93827826, -0.17891629],\n",
       "        [-0.25488853, -0.74092764,  0.1251936 ,  0.6085925 ],\n",
       "        [-0.6535463 , -0.27927062,  0.23680519, -0.6624261 ],\n",
       "        [-0.7119166 ,  0.53525215, -0.21882358,  0.39849186]],      dtype=float32))"
      ]
     },
     "execution_count": 85,
     "metadata": {},
     "output_type": "execute_result"
    }
   ],
   "source": [
    "U2 = jnp.linalg.eig(jnp.dot(B, B.T))[1].astype(jnp.float32)\n",
    "S2 = jnp.sqrt(jnp.linalg.eig(jnp.dot(B.T, B))[0].astype(jnp.float32))\n",
    "sorted_indices = jnp.argsort(S2, descending=True)\n",
    "U, U2"
   ]
  },
  {
   "cell_type": "code",
   "execution_count": 86,
   "metadata": {},
   "outputs": [
    {
     "data": {
      "text/plain": [
       "((Array([18.121445 ,  6.6405816,  3.465861 ,  0.7097109], dtype=float32),\n",
       "  Array([[-0.04401344, -0.27628452, -0.6763542 , -0.681377  ],\n",
       "         [ 0.37902662,  0.7872333 ,  0.12683554, -0.46959096],\n",
       "         [ 0.47516632, -0.547633  ,  0.5748661 , -0.37926766],\n",
       "         [ 0.79285467, -0.06347415, -0.44270378,  0.41396353]],      dtype=float32)),\n",
       " (Array([ 0.7097096,  3.4658616,  6.6405826, 18.121445 ], dtype=float32),\n",
       "  Array([[-0.04401337, -0.27628452, -0.6763542 , -0.68137705],\n",
       "         [-0.3790269 , -0.78723294, -0.12683566,  0.4695908 ],\n",
       "         [-0.7928546 ,  0.06347422,  0.4427038 , -0.41396356],\n",
       "         [-0.47516638,  0.5476332 , -0.57486606,  0.3792676 ]],      dtype=float32)))"
      ]
     },
     "execution_count": 86,
     "metadata": {},
     "output_type": "execute_result"
    }
   ],
   "source": [
    "S2, Vt2 = jnp.linalg.eig(jnp.dot(B.T, B))\n",
    "S2 = jnp.sqrt(S2).astype(jnp.float32).sort()\n",
    "Vt2 = Vt2.astype(jnp.float32).T\n",
    "(S, Vt), (S2, Vt2)"
   ]
  },
  {
   "cell_type": "code",
   "execution_count": 87,
   "metadata": {},
   "outputs": [],
   "source": [
    "def my_svd(B:jax.Array):\n",
    "    U = jnp.linalg.eig(jnp.dot(B, B.T))[1].astype(jnp.float32)\n",
    "    S_u = jnp.sqrt(jnp.linalg.eig(jnp.dot(B, B.T))[0].astype(jnp.float32))\n",
    "    Vt = jnp.linalg.eig(jnp.dot(B.T, B))[1].T.astype(jnp.float32)\n",
    "    S_vt = jnp.sqrt(jnp.linalg.eig(jnp.dot(B.T, B))[0].astype(jnp.float32))\n",
    "\n",
    "    sorted_indices_u = jnp.argsort(S_u, descending=True)\n",
    "    sorted_indices_vt = jnp.argsort(S_vt, descending=True)\n",
    "\n",
    "    return U[:, sorted_indices_u], jnp.diag(S_u[sorted_indices_u]), Vt[:, sorted_indices_vt]"
   ]
  },
  {
   "cell_type": "code",
   "execution_count": 88,
   "metadata": {},
   "outputs": [
    {
     "data": {
      "text/plain": [
       "Array([[ 1.5747491e+00,  1.2986512e+00, -5.0670344e-01,  7.5956029e-01],\n",
       "       [ 3.5359454e-01,  5.3320231e+00, -2.7045100e-03,  4.6308179e+00],\n",
       "       [ 2.9646111e+00,  4.6783400e+00,  8.2129717e+00,  7.1324124e+00],\n",
       "       [-1.8006245e+00,  7.6882309e-01,  9.8288898e+00,  8.9754982e+00]],      dtype=float32)"
      ]
     },
     "execution_count": 88,
     "metadata": {},
     "output_type": "execute_result"
    }
   ],
   "source": [
    "U2, S2, Vt2 = my_svd(B)\n",
    "U, S, Vt = svd(B)\n",
    "\n",
    "U2 @ S2 @ Vt2"
   ]
  },
  {
   "cell_type": "code",
   "execution_count": 89,
   "metadata": {},
   "outputs": [
    {
     "name": "stdout",
     "output_type": "stream",
     "text": [
      "(7, 7) (5,) (8, 2)\n"
     ]
    },
    {
     "data": {
      "text/plain": [
       "Array([[ 0.79758686,  0.3347571 , -0.29629523],\n",
       "       [ 0.8001173 , -1.0575135 ,  0.9375937 ],\n",
       "       [-1.51121   , -2.5334764 , -0.49882543],\n",
       "       [-4.263436  ,  0.9500487 ,  0.13105209],\n",
       "       [ 0.79758686,  0.3347571 , -0.29629523],\n",
       "       [ 0.79758686,  0.3347571 , -0.29629523],\n",
       "       [ 0.79758686,  0.3347571 , -0.29629523]], dtype=float32)"
      ]
     },
     "execution_count": 89,
     "metadata": {},
     "output_type": "execute_result"
    }
   ],
   "source": [
    "B = jnp.array([[1, 2, 0, 0, 0],\n",
    "               [0, 4, 5, 0, 0],\n",
    "               [0, 0, 7, 8, 0],\n",
    "               [0, 0, 0, 10, 11],\n",
    "               [1, 2, 0, 0, 0],\n",
    "               [1, 2, 0, 0, 0],\n",
    "               [1, 2, 0, 0, 0]])\n",
    "\n",
    "B = (B - B.mean())/B.std()\n",
    "n, m = B.shape\n",
    "\n",
    "num_components = 3\n",
    "\n",
    "U, S, Vt = jax.scipy.linalg.svd(B, full_matrices=True)\n",
    "\n",
    "print(U.shape, S.shape, V.shape)\n",
    "\n",
    "if n < m:\n",
    "    S = jnp.concatenate((jnp.diag(S), jnp.zeros((n, m-n))), axis=1)\n",
    "elif n > m:\n",
    "    S = jnp.concatenate((jnp.diag(S), jnp.zeros((n-m, m))), axis=0)\n",
    "\n",
    "\n",
    "B @ Vt[:num_components].T"
   ]
  },
  {
   "cell_type": "code",
   "execution_count": 90,
   "metadata": {},
   "outputs": [
    {
     "data": {
      "text/plain": [
       "(Array([[-0.03292139, -0.29417548, -0.17891629, -0.93827826],\n",
       "        [-0.25488853, -0.74092764,  0.6085925 ,  0.1251936 ],\n",
       "        [-0.6535463 , -0.27927062, -0.6624261 ,  0.23680519],\n",
       "        [-0.7119166 ,  0.53525215,  0.39849186, -0.21882358]],      dtype=float32),\n",
       " Array([[ 1.64022967e-01,  1.12288654e-01, -2.42227316e-01,\n",
       "          3.89632732e-01,  8.66025329e-01,  0.00000000e+00,\n",
       "         -8.96705643e-09],\n",
       "        [ 1.64543360e-01, -3.54724795e-01,  7.66501904e-01,\n",
       "          5.09480536e-01,  1.56532224e-07,  1.80300059e-08,\n",
       "          9.59345225e-09],\n",
       "        [-3.10778737e-01, -8.49811375e-01, -4.07799214e-01,\n",
       "          1.22215040e-01, -2.22817107e-08, -7.23325755e-09,\n",
       "         -2.47567788e-09],\n",
       "        [-8.76771212e-01,  3.18677604e-01,  1.07137300e-01,\n",
       "          3.43857735e-01, -1.11688678e-07, -1.03446371e-08,\n",
       "         -6.83913148e-09],\n",
       "        [ 1.64022967e-01,  1.12288617e-01, -2.42227197e-01,\n",
       "          3.89632732e-01, -2.88675159e-01, -5.77350259e-01,\n",
       "         -5.77350259e-01],\n",
       "        [ 1.64022967e-01,  1.12288617e-01, -2.42227197e-01,\n",
       "          3.89632732e-01, -2.88675159e-01,  7.88675129e-01,\n",
       "         -2.11324871e-01],\n",
       "        [ 1.64022967e-01,  1.12288617e-01, -2.42227197e-01,\n",
       "          3.89632732e-01, -2.88675159e-01, -2.11324871e-01,\n",
       "          7.88675129e-01]], dtype=float32))"
      ]
     },
     "execution_count": 90,
     "metadata": {},
     "output_type": "execute_result"
    }
   ],
   "source": [
    "U2, U"
   ]
  },
  {
   "cell_type": "code",
   "execution_count": 91,
   "metadata": {},
   "outputs": [
    {
     "data": {
      "text/plain": [
       "(Array([[18.121445  ,  0.        ,  0.        ,  0.        ],\n",
       "        [ 0.        ,  6.6405807 ,  0.        ,  0.        ],\n",
       "        [ 0.        ,  0.        ,  3.4658618 ,  0.        ],\n",
       "        [ 0.        ,  0.        ,  0.        ,  0.70970935]],      dtype=float32),\n",
       " Array([[4.8626552e+00, 0.0000000e+00, 0.0000000e+00, 0.0000000e+00,\n",
       "         0.0000000e+00],\n",
       "        [0.0000000e+00, 2.9812212e+00, 0.0000000e+00, 0.0000000e+00,\n",
       "         0.0000000e+00],\n",
       "        [0.0000000e+00, 0.0000000e+00, 1.2232124e+00, 0.0000000e+00,\n",
       "         0.0000000e+00],\n",
       "        [0.0000000e+00, 0.0000000e+00, 0.0000000e+00, 9.8522401e-01,\n",
       "         0.0000000e+00],\n",
       "        [0.0000000e+00, 0.0000000e+00, 0.0000000e+00, 0.0000000e+00,\n",
       "         1.1885693e-07],\n",
       "        [0.0000000e+00, 0.0000000e+00, 0.0000000e+00, 0.0000000e+00,\n",
       "         0.0000000e+00],\n",
       "        [0.0000000e+00, 0.0000000e+00, 0.0000000e+00, 0.0000000e+00,\n",
       "         0.0000000e+00]], dtype=float32))"
      ]
     },
     "execution_count": 91,
     "metadata": {},
     "output_type": "execute_result"
    }
   ],
   "source": [
    "S2, S"
   ]
  },
  {
   "cell_type": "code",
   "execution_count": 92,
   "metadata": {},
   "outputs": [
    {
     "data": {
      "text/plain": [
       "(Array([[-0.04401337, -0.27628452, -0.68137705, -0.6763542 ],\n",
       "        [-0.3790269 , -0.78723294,  0.4695908 , -0.12683566],\n",
       "        [-0.7928546 ,  0.06347422, -0.41396356,  0.4427038 ],\n",
       "        [-0.47516638,  0.5476332 ,  0.3792676 , -0.57486606]],      dtype=float32),\n",
       " Array([[ 0.08774175,  0.17972684, -0.05285533, -0.74583775, -0.6331922 ],\n",
       "        [ 0.13246639,  0.02176011, -0.80038613, -0.33112183,  0.4813729 ],\n",
       "        [-0.04163036,  0.5418476 ,  0.5000364 , -0.38165998,  0.5558481 ],\n",
       "        [-0.88722956,  0.35512844, -0.2501087 ,  0.09995639, -0.1190044 ],\n",
       "        [-0.4310973 , -0.73993903,  0.20975612, -0.4224085 ,  0.21028274]],      dtype=float32))"
      ]
     },
     "execution_count": 92,
     "metadata": {},
     "output_type": "execute_result"
    }
   ],
   "source": [
    "Vt2, Vt"
   ]
  },
  {
   "cell_type": "code",
   "execution_count": 93,
   "metadata": {},
   "outputs": [
    {
     "data": {
      "text/plain": [
       "Array([[ 1.5747491e+00,  1.2986512e+00, -5.0670344e-01,  7.5956029e-01],\n",
       "       [ 3.5359454e-01,  5.3320231e+00, -2.7045100e-03,  4.6308179e+00],\n",
       "       [ 2.9646111e+00,  4.6783400e+00,  8.2129717e+00,  7.1324124e+00],\n",
       "       [-1.8006245e+00,  7.6882309e-01,  9.8288898e+00,  8.9754982e+00]],      dtype=float32)"
      ]
     },
     "execution_count": 93,
     "metadata": {},
     "output_type": "execute_result"
    }
   ],
   "source": [
    "U2 @ S2 @ Vt2"
   ]
  },
  {
   "cell_type": "code",
   "execution_count": 97,
   "metadata": {},
   "outputs": [],
   "source": [
    "class myPCA():\n",
    "    def __init__(self, num_components:int):\n",
    "        self.num_components = num_components\n",
    "        self.mean = None\n",
    "        self.principal_components = None\n",
    "        self.explained_variance = None\n",
    "\n",
    "    def fit(self, X:jax.Array):\n",
    "        n, m = X.shape\n",
    "        \n",
    "        self.mean = X.mean(axis=0)\n",
    "        X_centred = X - self.mean\n",
    "        S, self.principal_components = svd(X_centred, full_matrices=True)[1:]\n",
    "\n",
    "        if n < m:\n",
    "            S = jnp.concatenate((jnp.diag(S), jnp.zeros((n, m-n))), axis=1)\n",
    "        elif n > m:\n",
    "            S = jnp.concatenate((jnp.diag(S), jnp.zeros((n-m, m))), axis=0)\n",
    "\n",
    "        self.explained_variance = S**2 / jnp.sum(S**2)\n",
    "\n",
    "    def transform(self, X:jax.Array):\n",
    "        if self.principal_components is None:\n",
    "            raise RuntimeError('Must fit before transforming.')\n",
    "        \n",
    "        X_centred = X - X.mean(axis=0)\n",
    "        return jnp.dot(X_centred, self.principal_components[:self.num_components].T)\n",
    "    \n",
    "    def fit_transform(self, X:jax.Array):\n",
    "        if self.mean is None:\n",
    "            self.mean = X.mean(axis=0)\n",
    "\n",
    "        X_centred = X - self.mean\n",
    "\n",
    "        self.principal_components = svd(X_centred, full_matrices=True)[2]\n",
    "\n",
    "        return jnp.dot(X_centred, self.principal_components[:self.num_components].T)\n",
    "\n",
    "    def inverse_transform(self, X_transformed:jax.Array):\n",
    "        if self.principal_components is None:\n",
    "            raise RuntimeError('Must fit before transforming.')\n",
    "        \n",
    "        return jnp.dot(X_transformed, self.principal_components[:self.num_components]) + self.mean"
   ]
  },
  {
   "cell_type": "code",
   "execution_count": 104,
   "metadata": {},
   "outputs": [
    {
     "data": {
      "text/plain": [
       "Array([ True,  True,  True,  True,  True,  True,  True], dtype=bool)"
      ]
     },
     "execution_count": 104,
     "metadata": {},
     "output_type": "execute_result"
    }
   ],
   "source": [
    "mymodel= myPCA(num_components=3)\n",
    "B_transformed = mymodel.fit_transform(B)\n",
    "jnp.isclose(B[:,0], B_transformed[:, 0], rtol=10)"
   ]
  }
 ],
 "metadata": {
  "kernelspec": {
   "display_name": ".venv",
   "language": "python",
   "name": "python3"
  },
  "language_info": {
   "codemirror_mode": {
    "name": "ipython",
    "version": 3
   },
   "file_extension": ".py",
   "mimetype": "text/x-python",
   "name": "python",
   "nbconvert_exporter": "python",
   "pygments_lexer": "ipython3",
   "version": "3.11.9"
  }
 },
 "nbformat": 4,
 "nbformat_minor": 2
}
