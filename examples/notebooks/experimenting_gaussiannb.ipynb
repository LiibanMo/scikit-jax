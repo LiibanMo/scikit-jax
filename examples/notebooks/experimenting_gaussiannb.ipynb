{
 "cells": [
  {
   "cell_type": "code",
   "execution_count": 19,
   "metadata": {},
   "outputs": [],
   "source": [
    "import jax\n",
    "import jax.numpy as jnp\n",
    "import pandas as pd\n",
    "import numpy as np\n",
    "import matplotlib.pyplot as plt\n",
    "\n",
    "from jax import jit, vmap"
   ]
  },
  {
   "cell_type": "code",
   "execution_count": 20,
   "metadata": {},
   "outputs": [
    {
     "name": "stdout",
     "output_type": "stream",
     "text": [
      "  Feature1 Feature2 Feature3  Target\n",
      "0        A        X        L       0\n",
      "1        B        Y        M       1\n",
      "2        A        X        N       0\n",
      "3        C        Z        L       1\n",
      "4        B        X        M       0\n"
     ]
    }
   ],
   "source": [
    "# Define the data\n",
    "data = {\n",
    "    'Feature1': ['A', 'B', 'A', 'C', 'B', 'A', 'C', 'B', 'A', 'C',\n",
    "                 'B', 'A', 'C', 'B', 'A', 'C', 'B', 'A', 'C', 'B',\n",
    "                 'A', 'C', 'B', 'A', 'C', 'B', 'A', 'C', 'B', 'A',\n",
    "                 'C', 'B', 'A', 'C', 'B', 'A', 'C', 'B', 'A', 'C',\n",
    "                 'B', 'A', 'C', 'B', 'A', 'C', 'B', 'A', 'C', 'B'],\n",
    "    'Feature2': ['X', 'Y', 'X', 'Z', 'X', 'Y', 'X', 'Z', 'Y', 'X',\n",
    "                 'X', 'Z', 'Y', 'X', 'Y', 'Z', 'Y', 'X', 'Y', 'X',\n",
    "                 'X', 'Y', 'X', 'Z', 'Y', 'X', 'Z', 'Y', 'X', 'Y',\n",
    "                 'Z', 'X', 'Y', 'Z', 'X', 'Y', 'X', 'Z', 'X', 'Y',\n",
    "                 'X', 'Y', 'X', 'Z', 'X', 'Y', 'X', 'Z', 'Y', 'X'],\n",
    "    'Feature3': ['L', 'M', 'N', 'L', 'M', 'N', 'L', 'M', 'N', 'L',\n",
    "                 'L', 'M', 'N', 'L', 'M', 'L', 'N', 'M', 'L', 'N',\n",
    "                 'L', 'M', 'N', 'L', 'M', 'N', 'L', 'M', 'L', 'N',\n",
    "                 'L', 'M', 'L', 'M', 'N', 'L', 'M', 'L', 'N', 'L',\n",
    "                 'M', 'N', 'L', 'M', 'N', 'L', 'M', 'N', 'L', 'M'],\n",
    "    'Target': [0, 1, 0, 1, 0, 1, 0, 1, 0, 1,\n",
    "               0, 1, 0, 1, 0, 1, 0, 1, 0, 1,\n",
    "               0, 1, 0, 1, 0, 1, 0, 1, 0, 1,\n",
    "               0, 1, 0, 1, 0, 1, 0, 1, 0, 1,\n",
    "               0, 1, 0, 1, 0, 1, 0, 1, 0, 1]\n",
    "}\n",
    "\n",
    "# Create DataFrame\n",
    "data = pd.DataFrame(data)\n",
    "\n",
    "# Display the DataFrame\n",
    "print(data.head())"
   ]
  },
  {
   "cell_type": "code",
   "execution_count": 21,
   "metadata": {},
   "outputs": [
    {
     "name": "stdout",
     "output_type": "stream",
     "text": [
      "   Feature1  Feature2  Feature3  Target\n",
      "0         0         0         0       0\n",
      "1         1         1         1       1\n",
      "2         0         0         2       0\n",
      "3         2         2         0       1\n",
      "4         1         0         1       0\n"
     ]
    }
   ],
   "source": [
    "from sklearn.preprocessing import LabelEncoder\n",
    "\n",
    "# Initialize LabelEncoder\n",
    "label_encoders = {}\n",
    "for column in ['Feature1', 'Feature2', 'Feature3']:\n",
    "    le = LabelEncoder()\n",
    "    data[column] = le.fit_transform(data[column])\n",
    "    label_encoders[column] = le\n",
    "\n",
    "# Display the updated DataFrame\n",
    "print(data.head())"
   ]
  },
  {
   "cell_type": "code",
   "execution_count": 22,
   "metadata": {},
   "outputs": [],
   "source": [
    "X = data.drop(columns=['Target']).to_numpy()\n",
    "y = data['Target'].to_numpy()\n",
    "\n",
    "X, y = map(jnp.array, (\n",
    "    X, y\n",
    "))\n"
   ]
  },
  {
   "cell_type": "code",
   "execution_count": 23,
   "metadata": {},
   "outputs": [],
   "source": [
    "def split_data(data, val_size=0.1, test_size=0.2):\n",
    "    \"\"\" \n",
    "    Splits data.\n",
    "    \"\"\"\n",
    "    split_index_test = int(len(data) * (1-test_size))\n",
    "\n",
    "    data_non_test = data[:split_index_test]\n",
    "    data_test = data[split_index_test:]\n",
    "\n",
    "    split_index_val = int(len(data_non_test) * (1-val_size))\n",
    "\n",
    "    data_train = data_non_test[:split_index_val]\n",
    "    data_val = data_non_test[split_index_val:]\n",
    "\n",
    "    return data_train, data_val, data_test"
   ]
  },
  {
   "cell_type": "code",
   "execution_count": 24,
   "metadata": {},
   "outputs": [],
   "source": [
    "(X_train, X_val, X_test), (y_train, y_val, y_test) = map(\n",
    "    split_data,\n",
    "    (X, y)\n",
    ")"
   ]
  },
  {
   "cell_type": "code",
   "execution_count": 25,
   "metadata": {},
   "outputs": [
    {
     "data": {
      "text/plain": [
       "[0.8089011311531067, 0.6781419515609741, 0.8975274562835693]"
      ]
     },
     "execution_count": 25,
     "metadata": {},
     "output_type": "execute_result"
    }
   ],
   "source": [
    "unique_classes = jnp.unique(y).tolist()\n",
    "indices_for_each_class = [jnp.where(y_train==class_) for class_ in unique_classes]\n",
    "\n",
    "dictionary_of_stds = dict(zip(unique_classes,\n",
    "                                  [[jnp.std(X_train[collection_of_indices][:,j]).item() for j in range(X_train.shape[1])] for collection_of_indices in indices_for_each_class]))\n",
    "\n",
    "dictionary_of_stds[0]"
   ]
  },
  {
   "cell_type": "code",
   "execution_count": 26,
   "metadata": {},
   "outputs": [
    {
     "data": {
      "text/plain": [
       "{'a': 0, 'b': 1, 'c': 2}"
      ]
     },
     "execution_count": 26,
     "metadata": {},
     "output_type": "execute_result"
    }
   ],
   "source": [
    "val = [1,2,3]\n",
    "keys = ['a', 'b', 'c']\n",
    "\n",
    "dict(zip(keys, [i for i in range(len(keys))]))"
   ]
  },
  {
   "cell_type": "code",
   "execution_count": 27,
   "metadata": {},
   "outputs": [],
   "source": [
    "def compute_priors(y:jax.Array):\n",
    "    \"\"\"\n",
    "    Obtain prior probabilities.\n",
    "\n",
    "    Args:\n",
    "        y (jax.Array): Label vector.\n",
    "    \n",
    "    Returns:\n",
    "        prior_probabilities (jax.Array): Vector of prior probabilities.\n",
    "    \"\"\"\n",
    "    unique_classes = jnp.unique_values(y)\n",
    "    prior_probabilities = []\n",
    "    \n",
    "    for index, class_ in enumerate(unique_classes.tolist()):\n",
    "        prior_probabilities.append(jnp.mean(jnp.where(y==class_, 1, 0)))\n",
    "\n",
    "    return jnp.array(prior_probabilities)"
   ]
  },
  {
   "cell_type": "code",
   "execution_count": 28,
   "metadata": {},
   "outputs": [
    {
     "data": {
      "text/plain": [
       "Array([0.5, 0.5], dtype=float32)"
      ]
     },
     "execution_count": 28,
     "metadata": {},
     "output_type": "execute_result"
    }
   ],
   "source": [
    "compute_priors(y)"
   ]
  },
  {
   "cell_type": "code",
   "execution_count": 29,
   "metadata": {},
   "outputs": [],
   "source": [
    "def gaussian_pdf(x, mean, std):\n",
    "    return jnp.exp(-0.5 * ((x-mean)/std)**2 )/(std*jnp.sqrt(2*jnp.pi))"
   ]
  },
  {
   "cell_type": "code",
   "execution_count": 30,
   "metadata": {},
   "outputs": [],
   "source": [
    "def compute_means(X:jax.Array, y:jax.Array, random_state=12):\n",
    "    \"\"\" \n",
    "    Computes means.\n",
    "    \"\"\"\n",
    "    np.random.seed(random_state)\n",
    "\n",
    "    unique_classes = jnp.unique(y).tolist()\n",
    "    indices_for_each_class = [jnp.where(y==class_) for class_ in unique_classes]\n",
    "\n",
    "    dictionary_of_means = dict(zip(unique_classes, \n",
    "                                   [[jnp.mean(X[collection_of_indices][:,j]).item() for j in range(X.shape[1])] for collection_of_indices in indices_for_each_class]))\n",
    "    \n",
    "    return dictionary_of_means"
   ]
  },
  {
   "cell_type": "code",
   "execution_count": 31,
   "metadata": {},
   "outputs": [],
   "source": [
    "def compute_stds(X:jax.Array, y:jax.Array, random_state=12):\n",
    "    \"\"\" \n",
    "    Compute stds.\n",
    "    \"\"\"\n",
    "    np.random.seed(random_state)\n",
    "\n",
    "    unique_classes = jnp.unique(y).tolist()\n",
    "    indices_for_each_class = [jnp.where(y==class_) for class_ in unique_classes]\n",
    "\n",
    "    dictionary_of_stds = dict(zip(unique_classes, \n",
    "                                   [[jnp.std(X[collection_of_indices][:,j]).item() for j in range(X.shape[1])] for collection_of_indices in indices_for_each_class]))\n",
    "    \n",
    "    return dictionary_of_stds"
   ]
  },
  {
   "cell_type": "code",
   "execution_count": 32,
   "metadata": {},
   "outputs": [],
   "source": [
    "def compute_posterior(X:jax.Array, y:jax.Array):\n",
    "    \"\"\" \n",
    "    Computes posteriors to compute predictions.\n",
    "    \"\"\"\n",
    "    posteriors = []\n",
    "    \n",
    "    dictionary_of_means = compute_means(X, y)\n",
    "    dictionary_of_stds = compute_stds(X, y)\n",
    "    \n",
    "    prior_probabilites = compute_priors(y)\n",
    "\n",
    "    for x in X:\n",
    "        likelihoods = jnp.array([gaussian_pdf(x, jnp.array(means), jnp.array(stds)) for means, stds in zip(dictionary_of_means.values(), dictionary_of_stds.values())])\n",
    "        vector_of_posteriors = jnp.log(jnp.dot(likelihoods, prior_probabilites))\n",
    "        posteriors.append(vector_of_posteriors)\n",
    "\n",
    "    return posteriors"
   ]
  },
  {
   "cell_type": "code",
   "execution_count": 33,
   "metadata": {},
   "outputs": [
    {
     "ename": "TypeError",
     "evalue": "dot_general requires contracting dimensions to have the same shape, got (3,) and (2,).",
     "output_type": "error",
     "traceback": [
      "\u001b[0;31m---------------------------------------------------------------------------\u001b[0m",
      "\u001b[0;31mTypeError\u001b[0m                                 Traceback (most recent call last)",
      "Cell \u001b[0;32mIn[33], line 1\u001b[0m\n\u001b[0;32m----> 1\u001b[0m posteriors \u001b[38;5;241m=\u001b[39m \u001b[43mcompute_posterior\u001b[49m\u001b[43m(\u001b[49m\u001b[43mX_test\u001b[49m\u001b[43m,\u001b[49m\u001b[43m \u001b[49m\u001b[43my_test\u001b[49m\u001b[43m)\u001b[49m\n\u001b[1;32m      2\u001b[0m y_pred \u001b[38;5;241m=\u001b[39m jnp\u001b[38;5;241m.\u001b[39margmax(jnp\u001b[38;5;241m.\u001b[39marray(posteriors), axis\u001b[38;5;241m=\u001b[39m\u001b[38;5;241m1\u001b[39m)\n",
      "Cell \u001b[0;32mIn[32], line 14\u001b[0m, in \u001b[0;36mcompute_posterior\u001b[0;34m(X, y)\u001b[0m\n\u001b[1;32m     12\u001b[0m \u001b[38;5;28;01mfor\u001b[39;00m x \u001b[38;5;129;01min\u001b[39;00m X:\n\u001b[1;32m     13\u001b[0m     likelihoods \u001b[38;5;241m=\u001b[39m jnp\u001b[38;5;241m.\u001b[39marray([gaussian_pdf(x, jnp\u001b[38;5;241m.\u001b[39marray(means), jnp\u001b[38;5;241m.\u001b[39marray(stds)) \u001b[38;5;28;01mfor\u001b[39;00m means, stds \u001b[38;5;129;01min\u001b[39;00m \u001b[38;5;28mzip\u001b[39m(dictionary_of_means\u001b[38;5;241m.\u001b[39mvalues(), dictionary_of_stds\u001b[38;5;241m.\u001b[39mvalues())])\n\u001b[0;32m---> 14\u001b[0m     vector_of_posteriors \u001b[38;5;241m=\u001b[39m jnp\u001b[38;5;241m.\u001b[39mlog(\u001b[43mjnp\u001b[49m\u001b[38;5;241;43m.\u001b[39;49m\u001b[43mdot\u001b[49m\u001b[43m(\u001b[49m\u001b[43mlikelihoods\u001b[49m\u001b[43m,\u001b[49m\u001b[43m \u001b[49m\u001b[43mprior_probabilites\u001b[49m\u001b[43m)\u001b[49m)\n\u001b[1;32m     15\u001b[0m     posteriors\u001b[38;5;241m.\u001b[39mappend(vector_of_posteriors)\n\u001b[1;32m     17\u001b[0m \u001b[38;5;28;01mreturn\u001b[39;00m posteriors\n",
      "    \u001b[0;31m[... skipping hidden 11 frame]\u001b[0m\n",
      "File \u001b[0;32m~/Desktop/scikit-jax/.venv/lib/python3.11/site-packages/jax/_src/numpy/lax_numpy.py:5761\u001b[0m, in \u001b[0;36mdot\u001b[0;34m(a, b, precision, preferred_element_type)\u001b[0m\n\u001b[1;32m   5759\u001b[0m   \u001b[38;5;28;01melse\u001b[39;00m:\n\u001b[1;32m   5760\u001b[0m     contract_dims \u001b[38;5;241m=\u001b[39m ((a_ndim \u001b[38;5;241m-\u001b[39m \u001b[38;5;241m1\u001b[39m,), (b_ndim \u001b[38;5;241m-\u001b[39m \u001b[38;5;241m2\u001b[39m,))\n\u001b[0;32m-> 5761\u001b[0m   result \u001b[38;5;241m=\u001b[39m \u001b[43mlax\u001b[49m\u001b[38;5;241;43m.\u001b[39;49m\u001b[43mdot_general\u001b[49m\u001b[43m(\u001b[49m\u001b[43ma\u001b[49m\u001b[43m,\u001b[49m\u001b[43m \u001b[49m\u001b[43mb\u001b[49m\u001b[43m,\u001b[49m\u001b[43m \u001b[49m\u001b[43mdimension_numbers\u001b[49m\u001b[38;5;241;43m=\u001b[39;49m\u001b[43m(\u001b[49m\u001b[43mcontract_dims\u001b[49m\u001b[43m,\u001b[49m\u001b[43m \u001b[49m\u001b[43mbatch_dims\u001b[49m\u001b[43m)\u001b[49m\u001b[43m,\u001b[49m\n\u001b[1;32m   5762\u001b[0m \u001b[43m                           \u001b[49m\u001b[43mprecision\u001b[49m\u001b[38;5;241;43m=\u001b[39;49m\u001b[43mprecision\u001b[49m\u001b[43m,\u001b[49m\u001b[43m \u001b[49m\u001b[43mpreferred_element_type\u001b[49m\u001b[38;5;241;43m=\u001b[39;49m\u001b[43mpreferred_element_type\u001b[49m\u001b[43m)\u001b[49m\n\u001b[1;32m   5763\u001b[0m \u001b[38;5;28;01mreturn\u001b[39;00m lax_internal\u001b[38;5;241m.\u001b[39m_convert_element_type(result, preferred_element_type, output_weak_type)\n",
      "    \u001b[0;31m[... skipping hidden 7 frame]\u001b[0m\n",
      "File \u001b[0;32m~/Desktop/scikit-jax/.venv/lib/python3.11/site-packages/jax/_src/lax/lax.py:2723\u001b[0m, in \u001b[0;36m_dot_general_shape_rule\u001b[0;34m(lhs, rhs, dimension_numbers, precision, preferred_element_type)\u001b[0m\n\u001b[1;32m   2720\u001b[0m \u001b[38;5;28;01mif\u001b[39;00m \u001b[38;5;129;01mnot\u001b[39;00m core\u001b[38;5;241m.\u001b[39mdefinitely_equal_shape(lhs_contracting_shape, rhs_contracting_shape):\n\u001b[1;32m   2721\u001b[0m   msg \u001b[38;5;241m=\u001b[39m (\u001b[38;5;124m\"\u001b[39m\u001b[38;5;124mdot_general requires contracting dimensions to have the same \u001b[39m\u001b[38;5;124m\"\u001b[39m\n\u001b[1;32m   2722\u001b[0m          \u001b[38;5;124m\"\u001b[39m\u001b[38;5;124mshape, got \u001b[39m\u001b[38;5;132;01m{}\u001b[39;00m\u001b[38;5;124m and \u001b[39m\u001b[38;5;132;01m{}\u001b[39;00m\u001b[38;5;124m.\u001b[39m\u001b[38;5;124m\"\u001b[39m)\n\u001b[0;32m-> 2723\u001b[0m   \u001b[38;5;28;01mraise\u001b[39;00m \u001b[38;5;167;01mTypeError\u001b[39;00m(msg\u001b[38;5;241m.\u001b[39mformat(lhs_contracting_shape, rhs_contracting_shape))\n\u001b[1;32m   2725\u001b[0m \u001b[38;5;28;01mreturn\u001b[39;00m _dot_general_shape_computation(lhs\u001b[38;5;241m.\u001b[39mshape, rhs\u001b[38;5;241m.\u001b[39mshape, dimension_numbers)\n",
      "\u001b[0;31mTypeError\u001b[0m: dot_general requires contracting dimensions to have the same shape, got (3,) and (2,)."
     ]
    }
   ],
   "source": [
    "posteriors = compute_posterior(X_test, y_test)\n",
    "y_pred = jnp.argmax(jnp.array(posteriors), axis=1)"
   ]
  },
  {
   "cell_type": "code",
   "execution_count": null,
   "metadata": {},
   "outputs": [
    {
     "data": {
      "text/plain": [
       "Array(87.43718, dtype=float32)"
      ]
     },
     "execution_count": 106,
     "metadata": {},
     "output_type": "execute_result"
    }
   ],
   "source": [
    "jnp.mean(y_pred == y_test) * 100"
   ]
  },
  {
   "cell_type": "code",
   "execution_count": null,
   "metadata": {},
   "outputs": [
    {
     "data": {
      "text/plain": [
       "Array(92.46231, dtype=float32)"
      ]
     },
     "execution_count": 107,
     "metadata": {},
     "output_type": "execute_result"
    }
   ],
   "source": [
    "from sklearn.naive_bayes import GaussianNB\n",
    "\n",
    "model = GaussianNB()\n",
    "model_fitted = model.fit(X_train, y_train)\n",
    "y_pred_2 = model_fitted.predict(X_test)\n",
    "\n",
    "jnp.mean(y_pred_2 == y_test) * 100"
   ]
  }
 ],
 "metadata": {
  "kernelspec": {
   "display_name": ".venv",
   "language": "python",
   "name": "python3"
  },
  "language_info": {
   "codemirror_mode": {
    "name": "ipython",
    "version": 3
   },
   "file_extension": ".py",
   "mimetype": "text/x-python",
   "name": "python",
   "nbconvert_exporter": "python",
   "pygments_lexer": "ipython3",
   "version": "3.11.9"
  }
 },
 "nbformat": 4,
 "nbformat_minor": 2
}
