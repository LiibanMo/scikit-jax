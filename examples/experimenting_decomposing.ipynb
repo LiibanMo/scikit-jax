{
 "cells": [
  {
   "cell_type": "code",
   "execution_count": 1164,
   "metadata": {},
   "outputs": [],
   "source": [
    "import jax\n",
    "import jax.numpy as jnp\n",
    "from scipy.linalg import norm\n",
    "\n",
    "jax.config.update('jax_enable_x64', False)"
   ]
  },
  {
   "cell_type": "code",
   "execution_count": 1165,
   "metadata": {},
   "outputs": [],
   "source": [
    "def normalize_vector(v:jax.Array):\n",
    "    return v / norm(v)"
   ]
  },
  {
   "cell_type": "code",
   "execution_count": 1166,
   "metadata": {},
   "outputs": [],
   "source": [
    "def householder_reflection(x:jax.Array):\n",
    "    w_0 = x[0] + jnp.sign(x[0]) * norm(x) if x[0] != 0 else norm(x)\n",
    "    w = x.at[0].set(w_0)\n",
    "    w = normalize_vector(w)\n",
    "    return jnp.identity(n=len(w)) - 2*jnp.linalg.outer(w, w) "
   ]
  },
  {
   "cell_type": "code",
   "execution_count": 1167,
   "metadata": {},
   "outputs": [],
   "source": [
    "def apply_householder_reflection(H, x):\n",
    "    return jnp.dot(H, x)"
   ]
  },
  {
   "cell_type": "code",
   "execution_count": 1168,
   "metadata": {},
   "outputs": [
    {
     "data": {
      "text/plain": [
       "Array([3., 5.], dtype=float32)"
      ]
     },
     "execution_count": 1168,
     "metadata": {},
     "output_type": "execute_result"
    }
   ],
   "source": [
    "x = jnp.array([1.,2.])\n",
    "y = jnp.array([2.,3.])\n",
    "\n",
    "x + y"
   ]
  },
  {
   "cell_type": "code",
   "execution_count": 1169,
   "metadata": {},
   "outputs": [],
   "source": [
    "H = householder_reflection(x) "
   ]
  },
  {
   "cell_type": "code",
   "execution_count": 1170,
   "metadata": {},
   "outputs": [
    {
     "data": {
      "text/plain": [
       "Array([-2.2360678e+00,  1.7881393e-07], dtype=float32)"
      ]
     },
     "execution_count": 1170,
     "metadata": {},
     "output_type": "execute_result"
    }
   ],
   "source": [
    "apply_householder_reflection(H, x)"
   ]
  },
  {
   "cell_type": "code",
   "execution_count": 1171,
   "metadata": {},
   "outputs": [
    {
     "data": {
      "text/plain": [
       "Array([[1., 2., 3.],\n",
       "       [4., 5., 6.],\n",
       "       [7., 8., 9.]], dtype=float32)"
      ]
     },
     "execution_count": 1171,
     "metadata": {},
     "output_type": "execute_result"
    }
   ],
   "source": [
    "A = jnp.array([[1,2,3], [4,5,6], [7,8,9]], dtype=jnp.float32)\n",
    "A"
   ]
  },
  {
   "cell_type": "code",
   "execution_count": 1172,
   "metadata": {},
   "outputs": [
    {
     "data": {
      "text/plain": [
       "Array([[-8.1240377e+00, -9.6011353e+00, -1.1078234e+01],\n",
       "       [ 2.6822090e-07, -8.5965395e-02, -1.7193082e-01],\n",
       "       [ 4.1723251e-07, -9.0043926e-01, -1.8008790e+00]], dtype=float32)"
      ]
     },
     "execution_count": 1172,
     "metadata": {},
     "output_type": "execute_result"
    }
   ],
   "source": [
    "H1 = householder_reflection(A.T[0])\n",
    "A2 = jnp.dot(H1, A)\n",
    "A2"
   ]
  },
  {
   "cell_type": "code",
   "execution_count": 1173,
   "metadata": {},
   "outputs": [
    {
     "data": {
      "text/plain": [
       "Array([[-8.1240377e+00, -9.6011353e+00, -1.1078234e+01],\n",
       "       [ 2.6822090e-07, -8.5965395e-02, -1.7193082e-01],\n",
       "       [ 4.1723251e-07, -9.0043926e-01, -1.8008790e+00]], dtype=float32)"
      ]
     },
     "execution_count": 1173,
     "metadata": {},
     "output_type": "execute_result"
    }
   ],
   "source": [
    "H1 @ A"
   ]
  },
  {
   "cell_type": "code",
   "execution_count": 1174,
   "metadata": {},
   "outputs": [],
   "source": [
    "def qr_decomposition(A:jax.Array):\n",
    "    n, m = A.shape\n",
    "\n",
    "    R = A.copy()\n",
    "    Q = jnp.identity(n)\n",
    "    for i in range(m-1):\n",
    "        H_i = householder_reflection(R[i:, i:].T[0])\n",
    "        H_i = jax.scipy.linalg.block_diag(jnp.eye(i), H_i) if i != 0 else H_i\n",
    "        R = jnp.dot(H_i, R)\n",
    "        Q = jnp.dot(Q, H_i.T)\n",
    "    \n",
    "    return Q, R"
   ]
  },
  {
   "cell_type": "code",
   "execution_count": 1175,
   "metadata": {},
   "outputs": [
    {
     "data": {
      "text/plain": [
       "Array([[1.2999997 , 1.9999998 ],\n",
       "       [1.9999998 , 0.99999976]], dtype=float32)"
      ]
     },
     "execution_count": 1175,
     "metadata": {},
     "output_type": "execute_result"
    }
   ],
   "source": [
    "Q, R = qr_decomposition(jnp.array([[1.3,2.],[2.,1.]]))\n",
    "jnp.dot(Q, R)"
   ]
  },
  {
   "cell_type": "code",
   "execution_count": 1176,
   "metadata": {},
   "outputs": [],
   "source": [
    "A = jnp.array([[1,2,3], [4,5,6], [7,8,9]], dtype=jnp.float32)\n",
    "\n",
    "def bidiagonalisation_decomposition(A:jax.Array):\n",
    "    n, m = A.shape\n",
    "    Q_2 = jnp.identity(m)\n",
    "    Q_1 = jnp.identity(n)\n",
    "    B = A.copy()\n",
    "\n",
    "    for i in range(min(n, m)):\n",
    "        if i <= n-1:\n",
    "            H_1 = householder_reflection(B[i:, i:].T[0])\n",
    "            H_1 = jax.scipy.linalg.block_diag(jnp.eye(i), H_1)\n",
    "            B = jnp.dot(H_1, B)\n",
    "            Q_1 = jnp.dot(Q_1, H_1.T)\n",
    "\n",
    "        if i < m-1:\n",
    "            H_2 = householder_reflection(B[i:, i+1:][0])\n",
    "            H_2 = jax.scipy.linalg.block_diag(jnp.eye(i+1), H_2)\n",
    "            B = jnp.dot(B, H_2.T)\n",
    "            Q_2 = jnp.dot(H_2, Q_2)\n",
    "\n",
    "    return Q_1, B, Q_2"
   ]
  },
  {
   "cell_type": "code",
   "execution_count": 1177,
   "metadata": {},
   "outputs": [
    {
     "data": {
      "text/plain": [
       "Array([[1.0000011, 1.999998 , 2.9999995, 4.000001 , 5.000002 , 6.000002 ],\n",
       "       [6.0000005, 4.999997 , 3.9999998, 2.9999998, 2.       , 1.0000004]],      dtype=float32)"
      ]
     },
     "execution_count": 1177,
     "metadata": {},
     "output_type": "execute_result"
    }
   ],
   "source": [
    "Q_1, B, Q_2 = bidiagonalisation_decomposition(jnp.array([[1,2,3,4,5,6], [6,5,4,3,2,1]], dtype=jnp.float32))\n",
    "Q_1 @ B @ Q_2"
   ]
  },
  {
   "cell_type": "code",
   "execution_count": 1178,
   "metadata": {},
   "outputs": [],
   "source": [
    "B = jnp.array([[1, 2, 0, 0],\n",
    "               [3, 4, 5, 0],\n",
    "               [0, 6, 7, 8],\n",
    "               [0, 0, 9, 10]])"
   ]
  },
  {
   "cell_type": "code",
   "execution_count": 1179,
   "metadata": {},
   "outputs": [
    {
     "name": "stdout",
     "output_type": "stream",
     "text": [
      "Block 11:\n",
      "[[1 2]\n",
      " [3 4]]\n",
      "\n",
      "Block 12:\n",
      "[[0 0]\n",
      " [5 0]]\n",
      "\n",
      "Block 21:\n",
      "[[0 6]\n",
      " [0 0]]\n",
      "\n",
      "Block 22:\n",
      "[[ 7  8]\n",
      " [ 9 10]]\n"
     ]
    }
   ],
   "source": [
    "# Define block size (example: 2x2)\n",
    "block_size = 2\n",
    "\n",
    "# Extract blocks\n",
    "block_11 = B[:block_size, :block_size]  # Top-left block\n",
    "block_12 = B[:block_size, block_size:]  # Top-right block\n",
    "block_21 = B[block_size:, :block_size]  # Bottom-left block\n",
    "block_22 = B[block_size:, block_size:]  # Bottom-right block\n",
    "\n",
    "print(\"Block 11:\")\n",
    "print(block_11)\n",
    "print(\"\\nBlock 12:\")\n",
    "print(block_12)\n",
    "print(\"\\nBlock 21:\")\n",
    "print(block_21)\n",
    "print(\"\\nBlock 22:\")\n",
    "print(block_22)"
   ]
  },
  {
   "cell_type": "code",
   "execution_count": 1180,
   "metadata": {},
   "outputs": [],
   "source": [
    "def split_matrix_into_blocks(B, block_size:int=2):\n",
    "\n",
    "    assert block_size > 0, f'The block size should be greater than 0. Instead {block_size}'\n",
    "    assert block_size <= min(B.shape), f'The block size should be less than or equal to the size of the matrix. Instead {block_size} > {min(B.shape)}'\n",
    "\n",
    "    block_11 = B[:block_size, :block_size]  # Top-left block\n",
    "    block_12 = B[:block_size, block_size:]  # Top-right block\n",
    "    block_21 = B[block_size:, :block_size]  # Bottom-left block\n",
    "    block_22 = B[block_size:, block_size:]  # Bottom-right block\n",
    "\n",
    "    return [block_11, block_12, block_21, block_22]"
   ]
  },
  {
   "cell_type": "code",
   "execution_count": 1181,
   "metadata": {},
   "outputs": [
    {
     "data": {
      "text/plain": [
       "[Array([[1, 2],\n",
       "        [3, 4]], dtype=int32),\n",
       " Array([[0, 0],\n",
       "        [5, 0]], dtype=int32),\n",
       " Array([[0, 6],\n",
       "        [0, 0]], dtype=int32),\n",
       " Array([[ 7,  8],\n",
       "        [ 9, 10]], dtype=int32)]"
      ]
     },
     "execution_count": 1181,
     "metadata": {},
     "output_type": "execute_result"
    }
   ],
   "source": [
    "split_matrix_into_blocks(B)"
   ]
  },
  {
   "cell_type": "code",
   "execution_count": 1182,
   "metadata": {},
   "outputs": [],
   "source": [
    "def perform_svd_on_blocks(blocks: list):\n",
    "    U_list, S_list, Vh_list = [], [], []\n",
    "    singular_values = []\n",
    "\n",
    "    # Perform SVD on each block\n",
    "    for block in blocks:\n",
    "        U_block, S_block, Vh_block = svd(block, full_matrices=False)\n",
    "        U_list.append(U_block)\n",
    "        singular_values.append(S_block)\n",
    "        Vh_list.append(Vh_block)\n",
    "\n",
    "    # Convert lists to arrays\n",
    "    U = jnp.hstack(U_list)\n",
    "    Vh = jnp.vstack(Vh_list)\n",
    "\n",
    "    # Concatenate singular values and sort them if needed\n",
    "    S = jnp.concatenate(singular_values)\n",
    "    \n",
    "    # Sorting singular values in descending order\n",
    "    sorted_indices = jnp.argsort(S)[::-1]\n",
    "    S_sorted = jnp.sort(S)[::-1]\n",
    "    Vh_sorted = Vh[sorted_indices]\n",
    "\n",
    "    # Construct diagonal matrix for singular values\n",
    "    S_diag = jnp.diag(S_sorted)\n",
    "\n",
    "    return U, S_diag, Vh_sorted"
   ]
  },
  {
   "cell_type": "code",
   "execution_count": 1183,
   "metadata": {},
   "outputs": [
    {
     "data": {
      "text/plain": [
       "Array([[17.146032  ,  0.        ,  0.        ,  0.        ,  0.        ,\n",
       "         0.        ,  0.        ,  0.        ],\n",
       "       [ 0.        ,  6.        ,  0.        ,  0.        ,  0.        ,\n",
       "         0.        ,  0.        ,  0.        ],\n",
       "       [ 0.        ,  0.        ,  5.464986  ,  0.        ,  0.        ,\n",
       "         0.        ,  0.        ,  0.        ],\n",
       "       [ 0.        ,  0.        ,  0.        ,  5.        ,  0.        ,\n",
       "         0.        ,  0.        ,  0.        ],\n",
       "       [ 0.        ,  0.        ,  0.        ,  0.        ,  0.3659662 ,\n",
       "         0.        ,  0.        ,  0.        ],\n",
       "       [ 0.        ,  0.        ,  0.        ,  0.        ,  0.        ,\n",
       "         0.11664507,  0.        ,  0.        ],\n",
       "       [ 0.        ,  0.        ,  0.        ,  0.        ,  0.        ,\n",
       "         0.        ,  0.        ,  0.        ],\n",
       "       [ 0.        ,  0.        ,  0.        ,  0.        ,  0.        ,\n",
       "         0.        ,  0.        ,  0.        ]], dtype=float32)"
      ]
     },
     "execution_count": 1183,
     "metadata": {},
     "output_type": "execute_result"
    }
   ],
   "source": [
    "B = jnp.array([[1, 2, 0, 0],\n",
    "               [3, 4, 5, 0],\n",
    "               [0, 6, 7, 8],\n",
    "               [0, 0, 9, 10]])\n",
    "\n",
    "blocks = split_matrix_into_blocks(B)\n",
    "U,S,V = perform_svd_on_blocks(blocks)\n",
    "S"
   ]
  },
  {
   "cell_type": "code",
   "execution_count": 1184,
   "metadata": {},
   "outputs": [],
   "source": [
    "B_scaled = (B - jnp.mean(B))/jnp.std(B)"
   ]
  },
  {
   "cell_type": "code",
   "execution_count": 1185,
   "metadata": {},
   "outputs": [
    {
     "data": {
      "text/plain": [
       "(4, 4)"
      ]
     },
     "execution_count": 1185,
     "metadata": {},
     "output_type": "execute_result"
    }
   ],
   "source": [
    "U, S, Vt = svd(B)\n",
    "Vt.T.shape"
   ]
  },
  {
   "cell_type": "code",
   "execution_count": 1186,
   "metadata": {},
   "outputs": [],
   "source": [
    "explained_variance = S**2/(len(B) - 1)"
   ]
  },
  {
   "cell_type": "code",
   "execution_count": 1187,
   "metadata": {},
   "outputs": [],
   "source": [
    "explained_variance_ratio = explained_variance / jnp.sum(explained_variance)"
   ]
  },
  {
   "cell_type": "code",
   "execution_count": 1188,
   "metadata": {},
   "outputs": [
    {
     "data": {
      "text/plain": [
       "Array([0.85295266, 0.11453852, 0.03120052, 0.00130828], dtype=float32)"
      ]
     },
     "execution_count": 1188,
     "metadata": {},
     "output_type": "execute_result"
    }
   ],
   "source": [
    "explained_variance_ratio"
   ]
  },
  {
   "cell_type": "code",
   "execution_count": 1189,
   "metadata": {},
   "outputs": [],
   "source": [
    "B_pca = jnp.dot(B, Vt.T[:, :3])"
   ]
  },
  {
   "cell_type": "code",
   "execution_count": 1190,
   "metadata": {},
   "outputs": [
    {
     "data": {
      "text/plain": [
       "(array([[-0.03292135,  0.29417493, -0.17891654,  0.9382783 ],\n",
       "        [-0.25488858,  0.74092764,  0.60859233, -0.12519354],\n",
       "        [-0.65354626,  0.27927089, -0.66242614, -0.23680513],\n",
       "        [-0.71191663, -0.53525239,  0.39849198,  0.21882354]]),\n",
       " Array([[ 0.03292142,  0.29417497, -0.9382782 , -0.17891674],\n",
       "        [ 0.25488868,  0.74092764,  0.1251934 ,  0.60859215],\n",
       "        [ 0.65354633,  0.2792707 ,  0.23680526, -0.6624261 ],\n",
       "        [ 0.71191657, -0.5352525 , -0.21882364,  0.39849204]],      dtype=float32))"
      ]
     },
     "execution_count": 1190,
     "metadata": {},
     "output_type": "execute_result"
    }
   ],
   "source": [
    "U2 = jnp.linalg.eig(jnp.dot(B, B.T))[1].astype(jnp.float32)\n",
    "S2 = jnp.sqrt(jnp.linalg.eig(jnp.dot(B.T, B))[0].astype(jnp.float32))\n",
    "sorted_indices = jnp.argsort(S2, descending=True)\n",
    "U, U2"
   ]
  },
  {
   "cell_type": "code",
   "execution_count": 1191,
   "metadata": {},
   "outputs": [
    {
     "data": {
      "text/plain": [
       "((array([18.12144537,  6.64058211,  3.4658617 ,  0.70971094]),\n",
       "  array([[-0.04401344, -0.27628451, -0.67635424, -0.68137701],\n",
       "         [ 0.37902669,  0.78723305,  0.12683571, -0.46959088],\n",
       "         [ 0.47516623, -0.54763311,  0.57486611, -0.37926769],\n",
       "         [ 0.79285474, -0.06347418, -0.44270374,  0.41396351]])),\n",
       " (Array([ 0.7097136,  3.4658616,  6.6405845, 18.121445 ], dtype=float32),\n",
       "  Array([[ 0.04401338,  0.27628446,  0.6763542 ,  0.681377  ],\n",
       "         [ 0.37902707,  0.7872326 ,  0.12683602, -0.46959126],\n",
       "         [-0.79285526,  0.06347464,  0.4427031 , -0.41396323],\n",
       "         [-0.47516647,  0.54763305, -0.57486606,  0.37926766]],      dtype=float32)))"
      ]
     },
     "execution_count": 1191,
     "metadata": {},
     "output_type": "execute_result"
    }
   ],
   "source": [
    "S2, Vt2 = jnp.linalg.eig(jnp.dot(B.T, B))\n",
    "S2 = jnp.sqrt(S2).astype(jnp.float32).sort()\n",
    "Vt2 = Vt2.astype(jnp.float32).T\n",
    "(S, Vt), (S2, Vt2)"
   ]
  },
  {
   "cell_type": "code",
   "execution_count": 1192,
   "metadata": {},
   "outputs": [],
   "source": [
    "def my_svd(B:jax.Array):\n",
    "    U = jnp.linalg.eig(jnp.dot(B, B.T))[1].astype(jnp.float32)\n",
    "    S_u = jnp.sqrt(jnp.linalg.eig(jnp.dot(B, B.T))[0].astype(jnp.float32))\n",
    "    Vt = jnp.linalg.eig(jnp.dot(B.T, B))[1].T.astype(jnp.float32)\n",
    "    S_vt = jnp.sqrt(jnp.linalg.eig(jnp.dot(B.T, B))[0].astype(jnp.float32))\n",
    "\n",
    "    sorted_indices_u = jnp.argsort(S_u, descending=True)\n",
    "    sorted_indices_vt = jnp.argsort(S_vt, descending=True)\n",
    "\n",
    "    return U[:, sorted_indices_u], jnp.diag(S_u[sorted_indices_u]), Vt[:, sorted_indices_vt]"
   ]
  },
  {
   "cell_type": "code",
   "execution_count": 1193,
   "metadata": {},
   "outputs": [
    {
     "data": {
      "text/plain": [
       "Array([[ 1.5747514e+00,  1.2986461e+00, -5.0670332e-01,  7.5956261e-01],\n",
       "       [ 3.5359529e-01,  5.3320231e+00, -2.7035451e-03,  4.6308184e+00],\n",
       "       [ 2.9646125e+00,  4.6783385e+00,  8.2129698e+00,  7.1324143e+00],\n",
       "       [-1.8006270e+00,  7.6882154e-01,  9.8288918e+00,  8.9754953e+00]],      dtype=float32)"
      ]
     },
     "execution_count": 1193,
     "metadata": {},
     "output_type": "execute_result"
    }
   ],
   "source": [
    "U2, S2, Vt2 = my_svd(B)\n",
    "U, S, Vt = svd(B)\n",
    "\n",
    "U2 @ S2 @ Vt2"
   ]
  },
  {
   "cell_type": "code",
   "execution_count": 1194,
   "metadata": {},
   "outputs": [
    {
     "name": "stdout",
     "output_type": "stream",
     "text": [
      "(7, 7) (5,) (8, 2)\n"
     ]
    },
    {
     "data": {
      "text/plain": [
       "Array([[ 0.7975866 ,  0.33475694, -0.29629555],\n",
       "       [ 0.8001167 , -1.0575129 ,  0.9375936 ],\n",
       "       [-1.5112098 , -2.5334752 , -0.49882537],\n",
       "       [-4.2634344 ,  0.9500482 ,  0.13105164],\n",
       "       [ 0.7975866 ,  0.33475694, -0.29629552],\n",
       "       [ 0.7975866 ,  0.33475694, -0.29629552],\n",
       "       [ 0.7975866 ,  0.33475694, -0.29629552]], dtype=float32)"
      ]
     },
     "execution_count": 1194,
     "metadata": {},
     "output_type": "execute_result"
    }
   ],
   "source": [
    "B = jnp.array([[1, 2, 0, 0, 0],\n",
    "               [0, 4, 5, 0, 0],\n",
    "               [0, 0, 7, 8, 0],\n",
    "               [0, 0, 0, 10, 11],\n",
    "               [1, 2, 0, 0, 0],\n",
    "               [1, 2, 0, 0, 0],\n",
    "               [1, 2, 0, 0, 0]])\n",
    "\n",
    "B = (B - B.mean())/B.std()\n",
    "n, m = B.shape\n",
    "\n",
    "num_components = 3\n",
    "\n",
    "U, S, Vt = jax.scipy.linalg.svd(B, full_matrices=True)\n",
    "\n",
    "print(U.shape, S.shape, V.shape)\n",
    "\n",
    "if n < m:\n",
    "    S = jnp.concatenate((jnp.diag(S), jnp.zeros((n, m-n))), axis=1)\n",
    "elif n > m:\n",
    "    S = jnp.concatenate((jnp.diag(S), jnp.zeros((n-m, m))), axis=0)\n",
    "\n",
    "\n",
    "B @ Vt[:num_components].T"
   ]
  },
  {
   "cell_type": "code",
   "execution_count": 1195,
   "metadata": {},
   "outputs": [
    {
     "data": {
      "text/plain": [
       "(Array([[ 0.03292142,  0.29417497, -0.17891674, -0.9382782 ],\n",
       "        [ 0.25488868,  0.74092764,  0.60859215,  0.1251934 ],\n",
       "        [ 0.65354633,  0.2792707 , -0.6624261 ,  0.23680526],\n",
       "        [ 0.71191657, -0.5352525 ,  0.39849204, -0.21882364]],      dtype=float32),\n",
       " Array([[ 1.64022923e-01,  1.12288535e-01, -2.42227674e-01,\n",
       "          3.89632523e-01,  8.66025388e-01, -1.58074709e-09,\n",
       "         -1.58074709e-09],\n",
       "        [ 1.64543286e-01, -3.54724824e-01,  7.66501606e-01,\n",
       "          5.09481072e-01, -1.92716243e-09,  1.22538957e-09,\n",
       "          1.22538957e-09],\n",
       "        [-3.10778767e-01, -8.49811614e-01, -4.07799274e-01,\n",
       "          1.22214384e-01, -1.21136452e-07,  1.23196564e-09,\n",
       "          1.23196564e-09],\n",
       "        [-8.76771271e-01,  3.18677723e-01,  1.07136950e-01,\n",
       "          3.43857884e-01, -3.17294848e-08, -2.37709741e-09,\n",
       "         -8.71655370e-09],\n",
       "        [ 1.64022923e-01,  1.12288557e-01, -2.42227525e-01,\n",
       "          3.89632583e-01, -2.88675159e-01, -5.77350259e-01,\n",
       "         -5.77350259e-01],\n",
       "        [ 1.64022923e-01,  1.12288557e-01, -2.42227525e-01,\n",
       "          3.89632583e-01, -2.88675159e-01,  7.88675129e-01,\n",
       "         -2.11324871e-01],\n",
       "        [ 1.64022923e-01,  1.12288557e-01, -2.42227525e-01,\n",
       "          3.89632583e-01, -2.88675159e-01, -2.11324871e-01,\n",
       "          7.88675129e-01]], dtype=float32))"
      ]
     },
     "execution_count": 1195,
     "metadata": {},
     "output_type": "execute_result"
    }
   ],
   "source": [
    "U2, U"
   ]
  },
  {
   "cell_type": "code",
   "execution_count": 1196,
   "metadata": {},
   "outputs": [
    {
     "data": {
      "text/plain": [
       "(Array([[18.121445  ,  0.        ,  0.        ,  0.        ],\n",
       "        [ 0.        ,  6.640581  ,  0.        ,  0.        ],\n",
       "        [ 0.        ,  0.        ,  3.465861  ,  0.        ],\n",
       "        [ 0.        ,  0.        ,  0.        ,  0.70971274]],      dtype=float32),\n",
       " Array([[4.8626533e+00, 0.0000000e+00, 0.0000000e+00, 0.0000000e+00,\n",
       "         0.0000000e+00],\n",
       "        [0.0000000e+00, 2.9812198e+00, 0.0000000e+00, 0.0000000e+00,\n",
       "         0.0000000e+00],\n",
       "        [0.0000000e+00, 0.0000000e+00, 1.2232121e+00, 0.0000000e+00,\n",
       "         0.0000000e+00],\n",
       "        [0.0000000e+00, 0.0000000e+00, 0.0000000e+00, 9.8522407e-01,\n",
       "         0.0000000e+00],\n",
       "        [0.0000000e+00, 0.0000000e+00, 0.0000000e+00, 0.0000000e+00,\n",
       "         9.6406190e-08],\n",
       "        [0.0000000e+00, 0.0000000e+00, 0.0000000e+00, 0.0000000e+00,\n",
       "         0.0000000e+00],\n",
       "        [0.0000000e+00, 0.0000000e+00, 0.0000000e+00, 0.0000000e+00,\n",
       "         0.0000000e+00]], dtype=float32))"
      ]
     },
     "execution_count": 1196,
     "metadata": {},
     "output_type": "execute_result"
    }
   ],
   "source": [
    "S2, S"
   ]
  },
  {
   "cell_type": "code",
   "execution_count": 1197,
   "metadata": {},
   "outputs": [
    {
     "data": {
      "text/plain": [
       "(Array([[ 0.04401338,  0.27628446,  0.681377  ,  0.6763542 ],\n",
       "        [ 0.37902707,  0.7872326 , -0.46959126,  0.12683602],\n",
       "        [-0.79285526,  0.06347464, -0.41396323,  0.4427031 ],\n",
       "        [-0.47516647,  0.54763305,  0.37926766, -0.57486606]],      dtype=float32),\n",
       " Array([[ 0.08774178,  0.1797265 , -0.05285541, -0.74583757, -0.63319194],\n",
       "        [ 0.13246639,  0.02176034, -0.8003858 , -0.3311217 ,  0.48137274],\n",
       "        [-0.04162986,  0.5418473 ,  0.5000368 , -0.38166016,  0.55584824],\n",
       "        [-0.8872296 ,  0.35512865, -0.25010833,  0.09995602, -0.11900399],\n",
       "        [ 0.43109712,  0.739939  , -0.20975605,  0.42240852, -0.21028268]],      dtype=float32))"
      ]
     },
     "execution_count": 1197,
     "metadata": {},
     "output_type": "execute_result"
    }
   ],
   "source": [
    "Vt2, Vt"
   ]
  },
  {
   "cell_type": "code",
   "execution_count": 1198,
   "metadata": {},
   "outputs": [
    {
     "data": {
      "text/plain": [
       "Array([[ 1.5747514e+00,  1.2986461e+00, -5.0670332e-01,  7.5956261e-01],\n",
       "       [ 3.5359529e-01,  5.3320231e+00, -2.7035451e-03,  4.6308184e+00],\n",
       "       [ 2.9646125e+00,  4.6783385e+00,  8.2129698e+00,  7.1324143e+00],\n",
       "       [-1.8006270e+00,  7.6882154e-01,  9.8288918e+00,  8.9754953e+00]],      dtype=float32)"
      ]
     },
     "execution_count": 1198,
     "metadata": {},
     "output_type": "execute_result"
    }
   ],
   "source": [
    "U2 @ S2 @ Vt2"
   ]
  },
  {
   "cell_type": "code",
   "execution_count": 1199,
   "metadata": {},
   "outputs": [],
   "source": [
    "from sklearn.decomposition import PCA"
   ]
  },
  {
   "cell_type": "code",
   "execution_count": 1200,
   "metadata": {},
   "outputs": [
    {
     "data": {
      "text/plain": [
       "array([[ 1.00000000e+00,  2.00000000e+00,  2.22044605e-16,\n",
       "        -4.44089210e-16,  0.00000000e+00],\n",
       "       [-5.55111512e-16,  4.00000000e+00,  5.00000000e+00,\n",
       "        -4.44089210e-16, -2.22044605e-16],\n",
       "       [ 0.00000000e+00, -1.33226763e-15,  7.00000000e+00,\n",
       "         8.00000000e+00, -4.21884749e-15],\n",
       "       [ 3.33066907e-16,  2.22044605e-16, -3.33066907e-15,\n",
       "         1.00000000e+01,  1.10000000e+01],\n",
       "       [ 1.00000000e+00,  2.00000000e+00,  2.22044605e-16,\n",
       "        -4.44089210e-16,  0.00000000e+00],\n",
       "       [ 1.00000000e+00,  2.00000000e+00,  2.22044605e-16,\n",
       "        -4.44089210e-16,  0.00000000e+00],\n",
       "       [ 1.00000000e+00,  2.00000000e+00,  2.22044605e-16,\n",
       "        -4.44089210e-16, -2.22044605e-16]])"
      ]
     },
     "execution_count": 1200,
     "metadata": {},
     "output_type": "execute_result"
    }
   ],
   "source": [
    "model = PCA(n_components=3)\n",
    "\n",
    "B = jnp.array([[1, 2, 0, 0, 0],\n",
    "               [0, 4, 5, 0, 0],\n",
    "               [0, 0, 7, 8, 0],\n",
    "               [0, 0, 0, 10, 11],\n",
    "               [1, 2, 0, 0, 0],\n",
    "               [1, 2, 0, 0, 0],\n",
    "               [1, 2, 0, 0, 0]])\n",
    "\n",
    "fitted_model = model.fit(B)\n",
    "B_transformed = fitted_model.transform(B)\n",
    "fitted_model.inverse_transform(B_transformed)"
   ]
  },
  {
   "cell_type": "code",
   "execution_count": 1201,
   "metadata": {},
   "outputs": [],
   "source": [
    "class myPCA():\n",
    "    def __init__(self, num_components:int):\n",
    "        self.num_components = num_components\n",
    "        self.mean = None\n",
    "        self.principal_components = None\n",
    "        self.explained_variance = None\n",
    "\n",
    "    def fit(self, X:jax.Array):\n",
    "        n, m = X.shape\n",
    "        \n",
    "        self.mean = X.mean(axis=0)\n",
    "        X_centred = X - self.mean\n",
    "        S, self.principal_components = svd(X_centred, full_matrices=True)[1:]\n",
    "\n",
    "        if n < m:\n",
    "            S = jnp.concatenate((jnp.diag(S), jnp.zeros((n, m-n))), axis=1)\n",
    "        elif n > m:\n",
    "            S = jnp.concatenate((jnp.diag(S), jnp.zeros((n-m, m))), axis=0)\n",
    "\n",
    "        self.explained_variance = S**2 / jnp.sum(S**2)\n",
    "\n",
    "    def transform(self, X:jax.Array):\n",
    "        if self.principal_components is None:\n",
    "            raise RuntimeError('Must fit before transforming.')\n",
    "        \n",
    "        X_centred = X - X.mean(axis=0)\n",
    "        return jnp.dot(X_centred, self.principal_components[:self.num_components].T)\n",
    "    \n",
    "    def fit_transform(self, X:jax.Array):\n",
    "        X_centred = X - X.mean(axis=0)\n",
    "\n",
    "        self.principal_components = svd(X_centred, full_matrices=True)[2]\n",
    "\n",
    "        return jnp.dot(X_centred, self.principal_components[:self.num_components].T)\n",
    "\n",
    "    def inverse_transform(self, X_transformed:jax.Array):\n",
    "        if self.principal_components is None:\n",
    "            raise RuntimeError('Must fit before transforming.')\n",
    "        \n",
    "        return jnp.dot(X_transformed, self.principal_components[:self.num_components]) + self.mean"
   ]
  },
  {
   "cell_type": "code",
   "execution_count": 1202,
   "metadata": {},
   "outputs": [
    {
     "data": {
      "text/plain": [
       "Array([[ 1.0000002e+00,  2.0000007e+00, -2.3841858e-07, -1.9073486e-06,\n",
       "        -9.5367432e-07],\n",
       "       [ 2.9802322e-07,  4.0000010e+00,  4.9999976e+00, -4.7683716e-07,\n",
       "        -4.7683716e-07],\n",
       "       [-4.7683716e-07, -1.4305115e-06,  6.9999995e+00,  8.0000029e+00,\n",
       "         2.3841858e-06],\n",
       "       [-4.7683716e-07, -2.0265579e-06,  4.1723251e-06,  1.0000006e+01,\n",
       "         1.1000003e+01],\n",
       "       [ 1.0000002e+00,  2.0000007e+00, -2.3841858e-07, -1.9073486e-06,\n",
       "        -9.5367432e-07],\n",
       "       [ 1.0000002e+00,  2.0000007e+00, -2.3841858e-07, -1.9073486e-06,\n",
       "        -9.5367432e-07],\n",
       "       [ 1.0000002e+00,  2.0000007e+00, -2.3841858e-07, -1.9073486e-06,\n",
       "        -9.5367432e-07]], dtype=float32)"
      ]
     },
     "execution_count": 1202,
     "metadata": {},
     "output_type": "execute_result"
    }
   ],
   "source": [
    "mymodel= myPCA(num_components=3)\n",
    "mymodel.fit(B)\n",
    "B_transformed = mymodel.transform(B)\n",
    "mymodel.inverse_transform(B_transformed)"
   ]
  }
 ],
 "metadata": {
  "kernelspec": {
   "display_name": ".venv",
   "language": "python",
   "name": "python3"
  },
  "language_info": {
   "codemirror_mode": {
    "name": "ipython",
    "version": 3
   },
   "file_extension": ".py",
   "mimetype": "text/x-python",
   "name": "python",
   "nbconvert_exporter": "python",
   "pygments_lexer": "ipython3",
   "version": "3.9.7"
  }
 },
 "nbformat": 4,
 "nbformat_minor": 2
}
